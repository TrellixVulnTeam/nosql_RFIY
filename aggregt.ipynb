{
 "cells": [
  {
   "cell_type": "code",
   "execution_count": 12,
   "metadata": {},
   "outputs": [],
   "source": [
    "import pymongo\n",
    "from pymongo import MongoClient\n",
    "from pprint import pprint"
   ]
  },
  {
   "cell_type": "code",
   "execution_count": 8,
   "metadata": {},
   "outputs": [],
   "source": [
    "try :\n",
    "    client = MongoClient('mongodb://localhost:27017/')\n",
    "    client.server_info()\n",
    "except :\n",
    "    print(\"connexion error\")\n",
    "\n",
    "try : \n",
    "    # connexion a la base de données\n",
    "    db = client.transactions\n",
    "    transaction = db.transaction\n",
    "\n",
    "except :\n",
    "    print(\"database introuvable\")\n",
    "\n"
   ]
  },
  {
   "cell_type": "code",
   "execution_count": 5,
   "metadata": {},
   "outputs": [],
   "source": [
    "# cmd\n",
    "# mongoimport -d transactions -c transaction --drop --file \"C:\\Users\\louis\\Desktop\\nosqll\\json\\transactions.json\" --jsonArray"
   ]
  },
  {
   "cell_type": "code",
   "execution_count": 45,
   "metadata": {},
   "outputs": [
    {
     "output_type": "stream",
     "name": "stdout",
     "text": [
      "<pymongo.cursor.Cursor object at 0x000002107D6860D0>\n{'Id': 102,\n 'Name': 'Margaret',\n 'Panier': [{'ItemId': 'a100', 'price': 200}, {'ItemId': 'a110', 'price': 210}],\n 'Payment': {'Success': True, 'Total': 410, 'Type': 'Credit-Card'},\n 'Subscriber': True,\n 'TransactionId': 'tran3',\n '_id': ObjectId('600ffed65d085a959f9cae51')}\n{'Id': 103,\n 'Name': 'Dylan',\n 'Note': 'Payment is Null',\n 'Panier': [{'ItemId': 'a100', 'price': 200}, {'ItemId': 'a110', 'price': 210}],\n 'Payment': None,\n 'Subscriber': True,\n 'TransactionId': 'tran4',\n '_id': ObjectId('600ffed65d085a959f9cae52')}\n{'Id': 101,\n 'Name': 'Tom',\n 'Note': None,\n 'Panier': [{'ItemId': 'a100', 'price': 200}, {'ItemId': 'a110', 'price': 210}],\n 'Payment': {'Success': True, 'Total': 410, 'Type': 'Debit-Card'},\n 'Subscriber': True,\n 'TransactionId': 'tran2',\n '_id': ObjectId('600ffed65d085a959f9cae53')}\n{'Id': 100,\n 'Name': 'John',\n 'Note': '1st Complete Record',\n 'Panier': [{'ItemId': 'a100', 'price': 400}, {'ItemId': 'a110', 'price': 210}],\n 'Payment': {'Success': True, 'Total': 410, 'Type': 'Credit-Card'},\n 'Subscriber': True,\n 'TransactionId': 'tran1',\n '_id': ObjectId('600ffed65d085a959f9cae54')}\n"
     ]
    }
   ],
   "source": [
    "print(transaction.find())\n",
    "for t in transaction.find() :\n",
    "    pprint(t)"
   ]
  },
  {
   "cell_type": "code",
   "execution_count": 43,
   "metadata": {},
   "outputs": [
    {
     "output_type": "stream",
     "name": "stdout",
     "text": [
      "{'_id': None, 'total': 1230}\n"
     ]
    }
   ],
   "source": [
    "# Q-1. Calculer le montant total des paiements ?\n",
    "payment = { \"$group\" : {\"_id\" : None, \"total\" : { \"$sum\" : \"$Payment.Total\" }} }\n",
    "tri = {\"$sort\" : {\"total\" : -1}}\n",
    "transaction.aggregate( [payment, tri] )\n",
    "for t in transaction.aggregate( [payment, tri] ):\n",
    "    pprint(t)"
   ]
  },
  {
   "cell_type": "code",
   "execution_count": 44,
   "metadata": {},
   "outputs": [
    {
     "output_type": "stream",
     "name": "stdout",
     "text": [
      "{'_id': 'Margaret', 'total': 410}\n{'_id': 'John', 'total': 410}\n{'_id': 'Tom', 'total': 410}\n{'_id': 'Dylan', 'total': 0}\n"
     ]
    }
   ],
   "source": [
    "# Q-2. Calculer le montant total par paiment ?\n",
    "payment = { \"$group\" : {\"_id\" : \"$Name\", \"total\" : { \"$sum\" : \"$Payment.Total\" }} }\n",
    "tri = {\"$sort\" : {\"total\" : -1}}\n",
    "transaction.aggregate( [payment, tri] )\n",
    "for t in transaction.aggregate( [payment, tri] ):\n",
    "    pprint(t)"
   ]
  },
  {
   "cell_type": "code",
   "execution_count": null,
   "metadata": {},
   "outputs": [],
   "source": [
    "# Q-3. Calculate total payments (Payment.Total) for each payment type (Payment.Type) ?"
   ]
  },
  {
   "cell_type": "code",
   "execution_count": null,
   "metadata": {},
   "outputs": [],
   "source": [
    "# Q-4. Trouver l'Id le plus élevé."
   ]
  },
  {
   "cell_type": "code",
   "execution_count": 36,
   "metadata": {},
   "outputs": [
    {
     "output_type": "stream",
     "name": "stdout",
     "text": [
      "{'_id': None, 'max_price': 400}\n"
     ]
    }
   ],
   "source": [
    "# Q-5. Find the max price (Transaction.price) ?\n",
    "eclater = { \"$unwind\" : '$Panier' }\n",
    "maxPrice = { \"$group\" : {\"_id\" : None , \"max_price\" : { \"$max\" : \"$Panier.price\" }} }\n",
    "tri = {\"$sort\" : {\"max\" : -1}}\n",
    "for t in transaction.aggregate( [eclater, maxPrice, tri] ):\n",
    "    pprint(t)"
   ]
  },
  {
   "cell_type": "code",
   "execution_count": null,
   "metadata": {},
   "outputs": [],
   "source": []
  }
 ],
 "metadata": {
  "kernelspec": {
   "display_name": "Python 3",
   "language": "python",
   "name": "python3"
  },
  "language_info": {
   "codemirror_mode": {
    "name": "ipython",
    "version": 3
   },
   "file_extension": ".py",
   "mimetype": "text/x-python",
   "name": "python",
   "nbconvert_exporter": "python",
   "pygments_lexer": "ipython3",
   "version": "3.8.0-final"
  }
 },
 "nbformat": 4,
 "nbformat_minor": 4
}