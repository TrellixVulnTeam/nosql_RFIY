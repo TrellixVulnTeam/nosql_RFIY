{
 "cells": [
  {
   "cell_type": "code",
   "execution_count": 44,
   "metadata": {},
   "outputs": [],
   "source": [
    "from pymongo import MongoClient"
   ]
  },
  {
   "cell_type": "code",
   "execution_count": 92,
   "metadata": {},
   "outputs": [
    {
     "output_type": "execute_result",
     "data": {
      "text/plain": [
       "<pymongo.results.InsertManyResult at 0x2af188d3540>"
      ]
     },
     "metadata": {},
     "execution_count": 92
    }
   ],
   "source": [
    "# Créer 1è DB \"metflix\" qui contient 1collection \"movies\" dans laquelle vs inserez les documents suivants :\n",
    "# TP1\n",
    "try :\n",
    "    client = MongoClient('mongodb://localhost:27017/')\n",
    "    client.server_info()\n",
    "except :\n",
    "    print(\"connexion error\")\n",
    "\n",
    "# supprimer la database\n",
    "client.drop_database('metflix')\n",
    "# client.drop_database('movies_artists')\n",
    "\n",
    "# affiche toute les databases\n",
    "dblist = client.list_database_names()\n",
    "# si base de donnée existe pas on la créer\n",
    "if not \"metflix\" in dblist:\n",
    "  db = client[\"metflix\"]\n",
    "\n",
    "try : \n",
    "    # connexion a la base de données\n",
    "    db = client.metflix\n",
    "\n",
    "    # selection de la table movies\n",
    "    movies = db.movies\n",
    "except :\n",
    "    print(\"database introuvable\")\n",
    "\n",
    "# Supp la dernière collection, la recréer en y insérant les documents suivants :\n",
    "try :   \n",
    "    movies.insert_one({\"title\": \"Rocky\", \"year\": 1976})\n",
    "    movies.insert_one({\"title\": \"Rocky\", \"year\": 1976})\n",
    "    movies.insert_one({\"title\": \"Rocky\", \"year\": 1976})\n",
    "    movies.insert_one({\"title\": \"Rocky\", \"year\": 1976})\n",
    "except :\n",
    "    print(\"Insert failed\")\n",
    "\n",
    "users = db.users\n",
    "\n",
    "try : \n",
    "    users.insert_one({\"firstname\": \"Louis\", \"lastname\": \"Ardilly\"})\n",
    "except : \n",
    "    print(\"User insertion failed\")\n",
    "\n",
    "# insere plusieurs lignes\n",
    "list = [{\n",
    "        \"title\": \"Rocky\", \n",
    "        \"year\": 1976,\n",
    "        \"_id\": \"tt0075148\"\n",
    "    },\n",
    "    {\n",
    "        \"title\": \"Jaws\", \n",
    "        \"year\": 1975,\n",
    "        \"imdb\": \"tt0073195\"\n",
    "    },\n",
    "    {\n",
    "        \"title\": \"Mad Max 2 : The road Warrior\", \n",
    "        \"year\": 1981,\n",
    "        \"imdb\": \"tt0082694\"\n",
    "    },\n",
    "    {\n",
    "        \"title\": \"Raiders of the Lost Ark\", \n",
    "        \"year\": 1981,\n",
    "        \"imdb\": \"tt0082971\"\n",
    "    }\n",
    " ]\n",
    "movies.insert_many(list)"
   ]
  },
  {
   "cell_type": "code",
   "execution_count": 46,
   "metadata": {},
   "outputs": [
    {
     "output_type": "stream",
     "name": "stdout",
     "text": [
      "{'_id': ObjectId('6006e45caaa49a7dadc092ed'), 'title': 'Mad Max 2 : The road Warrior', 'year': 1981, 'imdb': 'tt0082694'}\n{'_id': ObjectId('6006e45caaa49a7dadc092ee'), 'title': 'Raiders of the Lost Ark', 'year': 1981, 'imdb': 'tt0082971'}\n"
     ]
    }
   ],
   "source": [
    "query = {'year': 1981}\n",
    "items = movies.find(query)\n",
    "for item in items :\n",
    "    print(item)"
   ]
  },
  {
   "cell_type": "code",
   "execution_count": 47,
   "metadata": {},
   "outputs": [
    {
     "output_type": "stream",
     "name": "stdout",
     "text": [
      "{'_id': ObjectId('6006e45caaa49a7dadc092ec'), 'title': 'Jaws', 'year': 1975, 'imdb': 'tt0073195'}\n"
     ]
    }
   ],
   "source": [
    "# Afficher ts les documents de la collection movies, le tout 1è document, le(s) document(s) où on trouve les films produits en 1981, le document où on trouve le film qui porte le titre \"Jaws\" ?\n",
    "query = {'title': \"Jaws\"}\n",
    "items = movies.find(query)\n",
    "for item in items :\n",
    "    print(item)"
   ]
  },
  {
   "cell_type": "code",
   "execution_count": 48,
   "metadata": {},
   "outputs": [],
   "source": [
    "# Créer une DB movies_artists avec deux collections : une pour les films et l’autre pour les artistes (voir les fichiers artists.json et movies.json associés)\n",
    "db = client.movies_artists\n",
    "\n",
    "if not db.artist.find() : \n",
    "    db.artists.drop()\n",
    "\n",
    "if not db.movies.find():\n",
    "    db.movies.drop()"
   ]
  },
  {
   "cell_type": "code",
   "execution_count": 49,
   "metadata": {},
   "outputs": [],
   "source": [
    "# import json \n",
    "# pour le bon fonctionnement, taper ces 4 lignes de commandes dans le cmd à la racine de ce dossier\n",
    "\n",
    "# mongoimport -d movies_artists -c movies --drop --file \"C:\\Users\\louis\\Desktop\\nosql\\json\\movies.json\" --jsonArray\n",
    "# mongoimport -d movies_artists -c artists --drop --file \"C:\\Users\\louis\\Desktop\\nosql\\json\\artists.json\" --jsonArray\n",
    "# mongoimport -d movies_artists -c movies --mode insert --file \"C:\\Users\\louis\\Desktop\\nosql\\json\\movies_suite.json\" --jsonArray\n",
    "# mongoimport -d movies_artists -c artists --mode insert --file \"C:\\Users\\louis\\Desktop\\nosql\\json\\artists_suite.json\" --jsonArray\n",
    "\n",
    "# voir resultat dans screen pour moi"
   ]
  },
  {
   "cell_type": "code",
   "execution_count": 50,
   "metadata": {},
   "outputs": [
    {
     "output_type": "stream",
     "name": "stdout",
     "text": [
      "{'_id': 'movie:8', 'title': 'Impitoyable'}\n{'_id': 'movie:21', 'title': 'Le silence des agneaux'}\n{'_id': 'movie:14', 'title': 'Seven'}\n{'_id': 'movie:23', 'title': 'Matrix'}\n{'_id': 'movie:22', 'title': 'Godzilla'}\n{'_id': 'movie:24', 'title': 'Mission: Impossible'}\n{'_id': 'movie:25', 'title': 'Kagemusha'}\n{'_id': 'movie:26', 'title': 'Les pleins pouvoirs'}\n{'_id': 'movie:11', 'title': 'Piège de cristal'}\n{'_id': 'movie:19', 'title': 'Terminator'}\n{'_id': 'movie:27', 'title': 'Le gendarme et les extra-terrestres'}\n{'_id': 'movie:28', 'title': 'Le monde perdu'}\n"
     ]
    }
   ],
   "source": [
    "# Afficher les 12 documents (films) à partir du dixième inclus en se limitant aux title et _id ? \n",
    "films = db.movies.find({},{\"title\" : 1}).limit(12).skip(9)\n",
    "for film in films:\n",
    "    print(film)\n"
   ]
  },
  {
   "cell_type": "code",
   "execution_count": 51,
   "metadata": {},
   "outputs": [
    {
     "output_type": "stream",
     "name": "stdout",
     "text": [
      "{'_id': 'movie:5', 'title': 'Volte/Face'}\n{'_id': 'movie:1', 'title': 'Vertigo'}\n{'_id': 'movie:13', 'title': 'Van Gogh'}\n{'_id': 'movie:52', 'title': 'Usual suspects'}\n{'_id': 'movie:58', 'title': 'Une journée en enfer'}\n{'_id': 'movie:91', 'title': 'Un prophète'}\n{'_id': 'movie:15', 'title': 'Twelve Monkeys'}\n{'_id': 'movie:30', 'title': 'Top Gun'}\n{'_id': 'movie:3', 'title': 'Titanic'}\n{'_id': 'movie:49', 'title': 'The Matrix reloaded'}\n{'_id': 'movie:50', 'title': 'The Matrix Revolutions'}\n{'_id': 'movie:90', 'title': 'The Dark Knight Rises'}\n{'_id': 'movie:89', 'title': 'The Dark Knight'}\n{'_id': 'movie:19', 'title': 'Terminator'}\n{'_id': 'movie:70', 'title': 'Taxi driver'}\n{'_id': 'movie:62', 'title': 'Stalingrad'}\n{'_id': 'movie:47', 'title': 'Spider-Man'}\n{'_id': 'movie:68', 'title': 'Soleil vert'}\n{'_id': 'movie:6', 'title': 'Sleepy Hollow'}\n{'_id': 'movie:74', 'title': 'Skyfall'}\n{'_id': 'movie:59', 'title': 'Sixième sens'}\n{'_id': 'movie:38', 'title': 'Shining'}\n{'_id': 'movie:14', 'title': 'Seven'}\n{'_id': 'movie:4', 'title': 'Sacrifice'}\n{'_id': 'movie:84', 'title': 'Rio Grande'}\n{'_id': 'movie:36', 'title': 'Reservoir dogs'}\n{'_id': 'movie:29', 'title': 'Rain Man'}\n{'_id': 'movie:17', 'title': 'Pulp fiction'}\n{'_id': 'movie:33', 'title': 'Psychose'}\n{'_id': 'movie:64', 'title': 'Pour quelques dollars de plus'}\n{'_id': 'movie:11', 'title': 'Piège de cristal'}\n{'_id': 'movie:39', 'title': 'Pas de printemps pour Marnie'}\n{'_id': 'movie:92', 'title': 'Nous trois ou rien'}\n{'_id': 'movie:76', 'title': 'No country for old men'}\n{'_id': 'movie:45', 'title': 'Nikita'}\n{'_id': 'movie:24', 'title': 'Mission: Impossible'}\n{'_id': 'movie:63', 'title': 'Million Dollar Baby'}\n{'_id': 'movie:87', 'title': 'Memento'}\n{'_id': 'movie:23', 'title': 'Matrix'}\n{'_id': 'movie:18', 'title': 'Mary à tout prix'}\n{'_id': 'movie:67', 'title': 'Marie Antoinette'}\n{'_id': 'movie:44', 'title': 'Léon'}\n{'_id': 'movie:60', 'title': 'Lost in Translation'}\n{'_id': 'movie:81', 'title': 'Les quatre cents coups'}\n{'_id': 'movie:26', 'title': 'Les pleins pouvoirs'}\n{'_id': 'movie:35', 'title': 'Les oiseaux'}\n{'_id': 'movie:20', 'title': 'Les dents de la mer'}\n{'_id': 'movie:31', 'title': 'Les bronzés font du ski'}\n{'_id': 'movie:71', 'title': 'Les affranchis'}\n{'_id': 'movie:21', 'title': 'Le silence des agneaux'}\n{'_id': 'movie:34', 'title': 'Le retour du Jedi'}\n{'_id': 'movie:56', 'title': 'Le parrain III'}\n{'_id': 'movie:55', 'title': 'Le parrain II'}\n{'_id': 'movie:54', 'title': 'Le parrain'}\n{'_id': 'movie:28', 'title': 'Le monde perdu'}\n{'_id': 'movie:16', 'title': 'Le last_name de la rose'}\n{'_id': 'movie:46', 'title': 'Le grand bleu'}\n{'_id': 'movie:27', 'title': 'Le gendarme et les extra-terrestres'}\n{'_id': 'movie:82', 'title': 'Le dernier métro'}\n{'_id': 'movie:43', 'title': 'Le cinquième élément'}\n{'_id': 'movie:32', 'title': 'Le bon, la brute et le truand'}\n{'_id': 'movie:41', 'title': 'La mort aux trousses'}\n{'_id': 'movie:48', 'title': 'King of New York'}\n{'_id': 'movie:61', 'title': 'Kill Bill'}\n{'_id': 'movie:25', 'title': 'Kagemusha'}\n{'_id': 'movie:42', 'title': \"Jeanne d'Arc\"}\n{'_id': 'movie:57', 'title': 'Jackie Brown'}\n{'_id': 'movie:85', 'title': 'Interstellar'}\n{'_id': 'movie:79', 'title': 'Inglourious Basterds'}\n{'_id': 'movie:80', 'title': 'Inglourious Basterds'}\n{'_id': 'movie:86', 'title': 'Inception'}\n{'_id': 'movie:8', 'title': 'Impitoyable'}\n{'_id': 'movie:69', 'title': 'Heat'}\n{'_id': 'movie:22', 'title': 'Godzilla'}\n{'_id': 'movie:9', 'title': 'Gladiator'}\n{'_id': 'movie:40', 'title': 'Fenêtre sur cour'}\n{'_id': 'movie:77', 'title': 'Fargo'}\n{'_id': 'movie:37', 'title': 'Eyes Wide Shut'}\n{'_id': 'movie:78', 'title': 'Django unchained'}\n{'_id': 'movie:51', 'title': 'De bruit et de fureur'}\n{'_id': 'movie:73', 'title': 'Casino Royale'}\n{'_id': 'movie:72', 'title': 'Casino'}\n{'_id': 'movie:10', 'title': 'Blade Runner'}\n{'_id': 'movie:88', 'title': 'Batman begins'}\n{'_id': 'movie:53', 'title': 'Bad Lieutenant'}\n{'_id': 'movie:7', 'title': 'American Beauty'}\n{'_id': 'movie:2', 'title': 'Alien'}\n{'_id': 'movie:12', 'title': '58 minutes pour vivre'}\n{'_id': 'movie:12', 'title': '58 minutes pour vivre'}\n{'_id': 'movie:2', 'title': 'Alien'}\n{'_id': 'movie:7', 'title': 'American Beauty'}\n{'_id': 'movie:53', 'title': 'Bad Lieutenant'}\n{'_id': 'movie:88', 'title': 'Batman begins'}\n{'_id': 'movie:10', 'title': 'Blade Runner'}\n{'_id': 'movie:72', 'title': 'Casino'}\n{'_id': 'movie:73', 'title': 'Casino Royale'}\n{'_id': 'movie:51', 'title': 'De bruit et de fureur'}\n{'_id': 'movie:78', 'title': 'Django unchained'}\n{'_id': 'movie:37', 'title': 'Eyes Wide Shut'}\n{'_id': 'movie:77', 'title': 'Fargo'}\n{'_id': 'movie:40', 'title': 'Fenêtre sur cour'}\n{'_id': 'movie:9', 'title': 'Gladiator'}\n{'_id': 'movie:22', 'title': 'Godzilla'}\n{'_id': 'movie:69', 'title': 'Heat'}\n{'_id': 'movie:8', 'title': 'Impitoyable'}\n{'_id': 'movie:86', 'title': 'Inception'}\n{'_id': 'movie:79', 'title': 'Inglourious Basterds'}\n{'_id': 'movie:80', 'title': 'Inglourious Basterds'}\n{'_id': 'movie:85', 'title': 'Interstellar'}\n{'_id': 'movie:57', 'title': 'Jackie Brown'}\n{'_id': 'movie:42', 'title': \"Jeanne d'Arc\"}\n{'_id': 'movie:25', 'title': 'Kagemusha'}\n{'_id': 'movie:61', 'title': 'Kill Bill'}\n{'_id': 'movie:48', 'title': 'King of New York'}\n{'_id': 'movie:41', 'title': 'La mort aux trousses'}\n{'_id': 'movie:32', 'title': 'Le bon, la brute et le truand'}\n{'_id': 'movie:43', 'title': 'Le cinquième élément'}\n{'_id': 'movie:82', 'title': 'Le dernier métro'}\n{'_id': 'movie:27', 'title': 'Le gendarme et les extra-terrestres'}\n{'_id': 'movie:46', 'title': 'Le grand bleu'}\n{'_id': 'movie:16', 'title': 'Le last_name de la rose'}\n{'_id': 'movie:28', 'title': 'Le monde perdu'}\n{'_id': 'movie:54', 'title': 'Le parrain'}\n{'_id': 'movie:55', 'title': 'Le parrain II'}\n{'_id': 'movie:56', 'title': 'Le parrain III'}\n{'_id': 'movie:34', 'title': 'Le retour du Jedi'}\n{'_id': 'movie:21', 'title': 'Le silence des agneaux'}\n{'_id': 'movie:71', 'title': 'Les affranchis'}\n{'_id': 'movie:31', 'title': 'Les bronzés font du ski'}\n{'_id': 'movie:20', 'title': 'Les dents de la mer'}\n{'_id': 'movie:35', 'title': 'Les oiseaux'}\n{'_id': 'movie:26', 'title': 'Les pleins pouvoirs'}\n{'_id': 'movie:81', 'title': 'Les quatre cents coups'}\n{'_id': 'movie:60', 'title': 'Lost in Translation'}\n{'_id': 'movie:44', 'title': 'Léon'}\n{'_id': 'movie:67', 'title': 'Marie Antoinette'}\n{'_id': 'movie:18', 'title': 'Mary à tout prix'}\n{'_id': 'movie:23', 'title': 'Matrix'}\n{'_id': 'movie:87', 'title': 'Memento'}\n{'_id': 'movie:63', 'title': 'Million Dollar Baby'}\n{'_id': 'movie:24', 'title': 'Mission: Impossible'}\n{'_id': 'movie:45', 'title': 'Nikita'}\n{'_id': 'movie:76', 'title': 'No country for old men'}\n{'_id': 'movie:92', 'title': 'Nous trois ou rien'}\n{'_id': 'movie:39', 'title': 'Pas de printemps pour Marnie'}\n{'_id': 'movie:11', 'title': 'Piège de cristal'}\n{'_id': 'movie:64', 'title': 'Pour quelques dollars de plus'}\n{'_id': 'movie:33', 'title': 'Psychose'}\n{'_id': 'movie:17', 'title': 'Pulp fiction'}\n{'_id': 'movie:29', 'title': 'Rain Man'}\n{'_id': 'movie:36', 'title': 'Reservoir dogs'}\n{'_id': 'movie:84', 'title': 'Rio Grande'}\n{'_id': 'movie:4', 'title': 'Sacrifice'}\n{'_id': 'movie:14', 'title': 'Seven'}\n{'_id': 'movie:38', 'title': 'Shining'}\n{'_id': 'movie:59', 'title': 'Sixième sens'}\n{'_id': 'movie:74', 'title': 'Skyfall'}\n{'_id': 'movie:6', 'title': 'Sleepy Hollow'}\n{'_id': 'movie:68', 'title': 'Soleil vert'}\n{'_id': 'movie:47', 'title': 'Spider-Man'}\n{'_id': 'movie:62', 'title': 'Stalingrad'}\n{'_id': 'movie:70', 'title': 'Taxi driver'}\n{'_id': 'movie:19', 'title': 'Terminator'}\n{'_id': 'movie:89', 'title': 'The Dark Knight'}\n{'_id': 'movie:90', 'title': 'The Dark Knight Rises'}\n{'_id': 'movie:50', 'title': 'The Matrix Revolutions'}\n{'_id': 'movie:49', 'title': 'The Matrix reloaded'}\n{'_id': 'movie:3', 'title': 'Titanic'}\n{'_id': 'movie:30', 'title': 'Top Gun'}\n{'_id': 'movie:15', 'title': 'Twelve Monkeys'}\n{'_id': 'movie:91', 'title': 'Un prophète'}\n{'_id': 'movie:58', 'title': 'Une journée en enfer'}\n{'_id': 'movie:52', 'title': 'Usual suspects'}\n{'_id': 'movie:13', 'title': 'Van Gogh'}\n{'_id': 'movie:1', 'title': 'Vertigo'}\n{'_id': 'movie:5', 'title': 'Volte/Face'}\n"
     ]
    }
   ],
   "source": [
    "# Trier les documents (de la dernière qry) sur le titre du film ds un ordre croissant (ensuite décroissant) ?\n",
    "films_byTitleC = db.movies.find({},{\"title\" : 1}).sort(\"title\", -1)\n",
    "films_byTitleD = db.movies.find({},{\"title\" : 1}).sort(\"title\", 1)\n",
    "\n",
    "for film in films_byTitleC:\n",
    "    print(film)\n",
    "\n",
    "for film in films_byTitleD:\n",
    "    print(film)"
   ]
  },
  {
   "cell_type": "code",
   "execution_count": 52,
   "metadata": {},
   "outputs": [
    {
     "output_type": "stream",
     "name": "stdout",
     "text": [
      "{'_id': 'movie:2', 'title': 'Alien', 'genre': 'Science-fiction', 'summary': 'Près d\\'un vaisseau spatial échoué sur une lointaine planète, des Terriens en mission découvrent de bien étranges \"oeufs\". Ils en ramènent un à bord, ignorant qu\\'ils viennent d\\'introduire parmi eux un huitième passager particulièrement féroce et meurtrier. '}\n"
     ]
    }
   ],
   "source": [
    "# Afficher les infos du film dont l'id est 2 ? Se limiter aux infos relatives au titre, au genre et au summary ?\n",
    "film2 = db.movies.find_one({\"_id\": \"movie:2\"},{\"title\" : 1, \"genre\": 1, \"summary\": 1 })\n",
    "print(film2)"
   ]
  },
  {
   "cell_type": "code",
   "execution_count": 53,
   "metadata": {},
   "outputs": [
    {
     "output_type": "stream",
     "name": "stdout",
     "text": [
      "{'_id': 'movie:31', 'title': 'Les bronzés font du ski', 'year': 1979, 'actors': [{'_id': 'artist:75', 'role': 'Nathalie Morin'}, {'_id': 'artist:76', 'role': 'Christiane'}, {'_id': 'artist:84', 'role': 'Jean-Claude Dus'}, {'_id': 'artist:85', 'role': 'Jérôme'}, {'_id': 'artist:86', 'role': 'Popeye'}]}\n{'_id': 'movie:2', 'title': 'Alien', 'year': 1979, 'actors': [{'_id': 'artist:5', 'role': 'Ripley'}]}\n2\n"
     ]
    }
   ],
   "source": [
    "# Combien de films ont été produit en en 1979 et les afficher en se limitant aux infos relatives au titre, à l'année et à la liste des acteurs suivant un ordre alphabétique décroissant sur le titre.\n",
    "film1979 = db.movies.find({\"year\": 1979},{\"title\" : 1, \"year\": 1, \"actors\": 1 }).sort(\"title\", -1)\n",
    "for film in film1979:\n",
    "    print(film)\n",
    "print(film1979.count())"
   ]
  },
  {
   "cell_type": "code",
   "execution_count": 54,
   "metadata": {},
   "outputs": [
    {
     "output_type": "stream",
     "name": "stdout",
     "text": [
      "{'title': 'Alien', 'year': 1979, 'genre': 'Science-fiction', 'country': 'USA', 'director': {'_id': 'artist:4'}, 'actors': [{'_id': 'artist:5', 'role': 'Ripley'}]}\n"
     ]
    }
   ],
   "source": [
    "# Afficher les infos sur le film dont le genre est \"Science-fiction\" et produit en 1979 sans préciser l'_id et le summary ?\n",
    "filmScience = db.movies.find({\"year\": 1979, \"genre\" : \"Science-fiction\"},{\"_id\" : 0, \"summary\": 0})\n",
    "for film in filmScience:\n",
    "    print(film)"
   ]
  },
  {
   "cell_type": "code",
   "execution_count": 55,
   "metadata": {},
   "outputs": [
    {
     "output_type": "stream",
     "name": "stdout",
     "text": [
      "{'_id': 'movie:2', 'title': 'Alien', 'year': 1979, 'director': {'_id': 'artist:4'}, 'actors': [{'_id': 'artist:5', 'role': 'Ripley'}]}\n{'_id': 'movie:10', 'title': 'Blade Runner', 'year': 1982, 'director': {'_id': 'artist:4'}, 'actors': [{'_id': 'artist:24', 'role': 'Deckard'}, {'_id': 'artist:25', 'role': 'Batty'}]}\n{'_id': 'movie:9', 'title': 'Gladiator', 'year': 2000, 'director': {'_id': 'artist:4'}, 'actors': [{'_id': 'artist:23', 'role': 'Maximus'}, {'_id': 'artist:147', 'role': 'Commode'}, {'_id': 'artist:148', 'role': 'Lucilla'}, {'_id': 'artist:149', 'role': 'Marc Aurele'}]}\n3\n"
     ]
    }
   ],
   "source": [
    "# Combien de films produits par le director dont l'id est 4 et les afficher de plus récent au moins récent (sans le résumé ni le country ni le genre)\n",
    "filmByDirector4 = db.movies.find({\"director\":{\"_id\" : \"artist:4\"}},{\"genre\" : 0, \"summary\": 0, \"country\": 0}).sort(\"year\", 1)\n",
    "for film in filmByDirector4:\n",
    "    print(film)\n",
    "print(filmByDirector4.count())"
   ]
  },
  {
   "cell_type": "code",
   "execution_count": 56,
   "metadata": {},
   "outputs": [
    {
     "output_type": "stream",
     "name": "stdout",
     "text": [
      "{'_id': 'movie:9', 'title': 'Gladiator', 'year': 2000, 'director': {'_id': 'artist:4'}, 'actors': [{'_id': 'artist:23', 'role': 'Maximus'}, {'_id': 'artist:147', 'role': 'Commode'}, {'_id': 'artist:148', 'role': 'Lucilla'}, {'_id': 'artist:149', 'role': 'Marc Aurele'}]}\n1\n"
     ]
    }
   ],
   "source": [
    "# Combien de films produits par le director qui porte l'id 4 et dont l'un des acteurs a joué le rôle de Maximus et les afficher sans le résumé ni le country ni le genre ?\n",
    "filmByDirector4Maximus = db.movies.find({\"director\":{\"_id\" : \"artist:4\"}, \"actors.role\": \"Maximus\"},{\"genre\" : 0, \"summary\": 0, \"country\": 0}).sort(\"year\", 1)\n",
    "for film in filmByDirector4Maximus:\n",
    "    print(film)\n",
    "print(filmByDirector4Maximus.count())"
   ]
  },
  {
   "cell_type": "code",
   "execution_count": 57,
   "metadata": {},
   "outputs": [
    {
     "output_type": "stream",
     "name": "stdout",
     "text": [
      "{'_id': 'movie:9', 'title': 'Gladiator', 'year': 2000}\n{'_id': 'movie:87', 'title': 'Memento', 'year': 2000}\n{'_id': 'movie:62', 'title': 'Stalingrad', 'year': 2001}\n{'_id': 'movie:47', 'title': 'Spider-Man', 'year': 2002}\n{'_id': 'movie:49', 'title': 'The Matrix reloaded', 'year': 2003}\n{'_id': 'movie:50', 'title': 'The Matrix Revolutions', 'year': 2003}\n{'_id': 'movie:60', 'title': 'Lost in Translation', 'year': 2003}\n{'_id': 'movie:61', 'title': 'Kill Bill', 'year': 2003}\n"
     ]
    }
   ],
   "source": [
    "# Ts les films produits après 2000 compris et avant 2005 exlus (dans un ordre chronologique) en se limitant au titre du film et son année de production ?\n",
    "moviesBetween2000and2005 = db.movies.find({\"year\":{\"$gte\":2000,\"$lt\":2005}},{\"title\" : 1, \"year\": 1}).sort(\"year\", 1)\n",
    "for movie in moviesBetween2000and2005:\n",
    "    print(movie)"
   ]
  },
  {
   "cell_type": "code",
   "execution_count": 58,
   "metadata": {},
   "outputs": [
    {
     "output_type": "stream",
     "name": "stdout",
     "text": [
      "{'_id': 'movie:3', 'title': 'Titanic', 'year': 1997, 'actors': [{'_id': 'artist:109', 'role': 'Rose DeWitt Bukater'}, {'_id': 'artist:110', 'role': 'Jack Dawson'}]}\n{'_id': 'movie:5', 'title': 'Volte/Face', 'year': 1997, 'actors': [{'_id': 'artist:11', 'role': 'Sean Archer/Castor Troy'}, {'_id': 'artist:12', 'role': 'Castor Troy/Sean Archer'}]}\n{'_id': 'movie:9', 'title': 'Gladiator', 'year': 2000, 'actors': [{'_id': 'artist:23', 'role': 'Maximus'}, {'_id': 'artist:147', 'role': 'Commode'}, {'_id': 'artist:148', 'role': 'Lucilla'}, {'_id': 'artist:149', 'role': 'Marc Aurele'}]}\n{'_id': 'movie:26', 'title': 'Les pleins pouvoirs', 'year': 1997, 'actors': [{'_id': 'artist:20', 'role': 'Luther Whitney'}, {'_id': 'artist:21', 'role': 'Le président Richmond'}, {'_id': 'artist:69', 'role': 'Seth Frank'}]}\n{'_id': 'movie:28', 'title': 'Le monde perdu', 'year': 1997, 'actors': [{'_id': 'artist:57', 'role': 'Dr. Ian Malcolm'}]}\n{'_id': 'movie:43', 'title': 'Le cinquième élément', 'year': 1997, 'actors': [{'_id': 'artist:27', 'role': 'Major Korben Dalla'}, {'_id': 'artist:112', 'role': 'Leeloo'}, {'_id': 'artist:116', 'role': 'Jean-Baptiste Emmanuel Zorg'}, {'_id': 'artist:117', 'role': 'Vito Cornelius'}]}\n{'_id': 'movie:57', 'title': 'Jackie Brown', 'year': 1997, 'actors': [{'_id': 'artist:167', 'role': 'Luis Gara'}, {'_id': 'artist:168', 'role': 'Jackie Brown'}, {'_id': 'artist:169', 'role': 'Melanie'}, {'_id': 'artist:170', 'role': 'Ray Nicolette'}, {'_id': 'artist:212', 'role': 'Ordell Robbie'}]}\n"
     ]
    }
   ],
   "source": [
    "#  Lister les films parus en 1997 ou avec l'acteur id = 147 ?\n",
    "moviesWithActor147In1997 = db.movies.find({\"$or\" : [{\"year\": 1997}, {\"actors._id\": \"artist:147\"}] },{\"title\" : 1, \"year\": 1, \"actors\":1})\n",
    "\n",
    "for movie in moviesWithActor147In1997:\n",
    "    print(movie)"
   ]
  },
  {
   "cell_type": "code",
   "execution_count": 59,
   "metadata": {},
   "outputs": [
    {
     "output_type": "stream",
     "name": "stdout",
     "text": [
      "{'_id': 'movie:56', 'title': 'Le parrain III', 'actors': [{'_id': 'artist:1', 'role': 'Mary Corleone'}, {'_id': 'artist:176', 'role': 'Michael Corleone'}, {'_id': 'artist:183', 'role': 'Kay Adams'}, {'_id': 'artist:186', 'role': 'Vincent Mancini'}]}\n{'_id': 'movie:36', 'title': 'Reservoir dogs', 'actors': [{'_id': 'artist:37', 'role': 'Mr. Brown'}, {'_id': 'artist:98', 'role': 'Mr. White/Larry'}, {'_id': 'artist:99', 'role': 'Freddy Newendyke/Mr. Orange'}, {'_id': 'artist:100', 'role': 'Nice Guy Eddie'}, {'_id': 'artist:215', 'role': 'Mr Blonde'}, {'_id': 'artist:217', 'role': 'Mr Pink'}, {'_id': 'artist:218', 'role': 'Mr Blue'}]}\n{'_id': 'movie:53', 'title': 'Bad Lieutenant', 'actors': [{'_id': 'artist:98', 'role': 'Le lieutenant'}]}\n{'_id': 'movie:17', 'title': 'Pulp fiction', 'actors': [{'_id': 'artist:11', 'role': 'Vincent Vega'}, {'_id': 'artist:27', 'role': 'Butch Coolidge'}, {'_id': 'artist:37', 'role': 'Jimmy Dimmick'}, {'_id': 'artist:38', 'role': 'Jules Winnfield'}, {'_id': 'artist:39', 'role': 'Jody'}, {'_id': 'artist:40', 'role': 'Mia Wallace'}, {'_id': 'artist:97', 'role': 'Capt. Koons'}, {'_id': 'artist:98', 'role': 'Winston \"The Wolf\" Wolfe'}, {'_id': 'artist:99', 'role': 'Pumpkin (Ringo)'}]}\n4\n"
     ]
    }
   ],
   "source": [
    "# Combien de films dans lesquels ont joué au moins un des artistes suivants : 34, 98 et 1 et afficher leur titre et la liste des actors ; sens du tri : chronologique et alphabétique croissant sur les noms des artistes ?\n",
    "movieIn =  db.movies.find({\"actors._id\" : { \"$in\": [ \"artist:34\", \"artist:98\", \"artist:1\" ]}},{\"title\": 1, \"actors\" : 1}).sort(\"year\", 1)\n",
    "for movie in movieIn:\n",
    "    print(movie)\n",
    "print(movieIn.count())"
   ]
  },
  {
   "cell_type": "code",
   "execution_count": 60,
   "metadata": {},
   "outputs": [
    {
     "output_type": "stream",
     "name": "stdout",
     "text": [
      "{'_id': 'movie:9', 'title': 'Gladiator', 'actors': [{'_id': 'artist:23', 'role': 'Maximus'}, {'_id': 'artist:147', 'role': 'Commode'}, {'_id': 'artist:148', 'role': 'Lucilla'}, {'_id': 'artist:149', 'role': 'Marc Aurele'}]}\n"
     ]
    }
   ],
   "source": [
    "# Chercher les films dans lesquels ont joué ensemble les actors 23 et 147 ?\n",
    "movieAll =  db.movies.find({\"actors._id\" : { \"$all\": [ \"artist:23\", \"artist:147\"]}},{\"title\": 1, \"actors\" : 1}).sort(\"year\", 1)\n",
    "for movie in movieAll:\n",
    "    print(movie)"
   ]
  },
  {
   "cell_type": "code",
   "execution_count": 61,
   "metadata": {},
   "outputs": [
    {
     "output_type": "stream",
     "name": "stdout",
     "text": [
      "84\n"
     ]
    }
   ],
   "source": [
    "# Combien de films dans lesquels ont joué ni l'acteur 34, ni 98, ni 1 et afficher leur titre et la liste des actors ; sens du tri : chronologique décroissant et alphabétique croissant sur les titres des films ?\n",
    "movieNin =  db.movies.find({\"actors._id\" : { \"$nin\": [ \"artist:34\", \"artist:98\", \"artist:1\" ]}},{\"title\": 1, \"actors\" : 1}).count()\n",
    "print(movieNin)"
   ]
  },
  {
   "cell_type": "code",
   "execution_count": 62,
   "metadata": {},
   "outputs": [
    {
     "output_type": "stream",
     "name": "stdout",
     "text": [
      "0\n"
     ]
    }
   ],
   "source": [
    "# Combien de films qui n’ont pas d’attribut actors ? Combien de films dont l'attribut actors n'est pas renseigné et les afficher ?\n",
    "movieExists =  db.movies.find({\"actors\" : { \"$exists\": False}}).count()\n",
    "print(movieExists)"
   ]
  },
  {
   "cell_type": "code",
   "execution_count": 63,
   "metadata": {},
   "outputs": [
    {
     "output_type": "stream",
     "name": "stdout",
     "text": [
      "6\n"
     ]
    }
   ],
   "source": [
    "movieExists =  db.movies.find({\"actors._id\" : { \"$exists\": False}}).count()\n",
    "print(movieExists)"
   ]
  },
  {
   "cell_type": "code",
   "execution_count": 64,
   "metadata": {},
   "outputs": [
    {
     "output_type": "stream",
     "name": "stdout",
     "text": [
      "{'_id': 'movie:8', 'title': 'Impitoyable', 'director': {'_id': 'artist:20'}}\n{'_id': 'movie:26', 'title': 'Les pleins pouvoirs', 'director': {'_id': 'artist:20'}}\n{'_id': 'movie:63', 'title': 'Million Dollar Baby', 'director': {'_id': 'artist:20'}}\n"
     ]
    }
   ],
   "source": [
    "# Donnez tous les films dont le directeur est Clint Eastwood ?\n",
    "eastwood = db.artists.find_one({\"first_name\": \"Clint\", \"last_name\": \"Eastwood\"})\n",
    "movieEastwood = db.movies.find({\"director._id\": eastwood['_id']}, {\"title\": 1, \"director._id\" : 1})\n",
    "for movie in movieEastwood:\n",
    "    print(movie)"
   ]
  },
  {
   "cell_type": "code",
   "execution_count": 65,
   "metadata": {},
   "outputs": [
    {
     "output_type": "stream",
     "name": "stdout",
     "text": [
      "{'_id': 'movie:36', 'title': 'Reservoir dogs', 'year': 1992, 'genre': 'crime', 'country': 'USA', 'director': {'_id': 'artist:37'}}\n{'_id': 'movie:50', 'title': 'The Matrix Revolutions', 'year': 2003, 'genre': 'Science-fiction', 'country': 'USA', 'director': {'_id': 'artist:135'}}\n"
     ]
    }
   ],
   "source": [
    "# Tous les films dont le titre commence par 'Re' ?\n",
    "movies = db.movies.find ({'title':{'$regex':'Re'}}, {\"actors\": 0, \"summary\": 0})\n",
    "for movie in movies:\n",
    "    print(movie)"
   ]
  },
  {
   "cell_type": "code",
   "execution_count": 66,
   "metadata": {},
   "outputs": [
    {
     "output_type": "stream",
     "name": "stdout",
     "text": [
      "{'_id': 'movie:9', 'title': 'Gladiator', 'actors': [{'_id': 'artist:23', 'role': 'Maximus'}, {'_id': 'artist:147', 'role': 'Commode'}, {'_id': 'artist:148', 'role': 'Lucilla'}, {'_id': 'artist:149', 'role': 'Marc Aurele'}]}\n1\n"
     ]
    }
   ],
   "source": [
    "# Combien de films ont été joués par l'acteur dont l'id est 147 et les afficher en se limitant au titre du film et la liste des acteurs ?\n",
    "nbMovies = db.movies.find({\"actors._id\" : \"artist:147\"}, {\"actors\": 1, \"title\": 1})\n",
    "for movie in nbMovies:\n",
    "    print(movie)\n",
    "print(nbMovies.count())"
   ]
  },
  {
   "cell_type": "code",
   "execution_count": 67,
   "metadata": {},
   "outputs": [
    {
     "output_type": "stream",
     "name": "stdout",
     "text": [
      "{'_id': 'movie:9', 'title': 'Gladiator', 'year': 2000, 'genre': 'drama', 'country': 'USA', 'director': {'_id': 'artist:4'}}\n"
     ]
    }
   ],
   "source": [
    "# Retourner les films joués par l'acteur 147 sans les acteurs et sans le résumé ?\n",
    "nbMovies = db.movies.find({\"actors._id\" : \"artist:147\"}, {\"actors\": 0, \"summary\": 0})\n",
    "for movie in nbMovies:\n",
    "    print(movie)\n"
   ]
  },
  {
   "cell_type": "code",
   "execution_count": 68,
   "metadata": {},
   "outputs": [],
   "source": [
    "#TP2\n"
   ]
  },
  {
   "cell_type": "code",
   "execution_count": 69,
   "metadata": {},
   "outputs": [
    {
     "output_type": "stream",
     "name": "stdout",
     "text": [
      "['sportifs', 'Gymnases']\n150\n28\n{'_id': '566eec69662b388eba464299', 'IdGymnase': 1, 'NomGymnase': 'PAUL ELUARD', 'Adresse': '2 rue des pépines', 'Ville': 'STAINS', 'Surface': 200, 'Seances': [{'IdSportifEntraineur': 149, 'Jour': 'Samedi', 'Horaire': 9.0, 'Duree': 60, 'Libelle': 'Basket ball'}, {'IdSportifEntraineur': 1, 'Jour': 'Lundi', 'Horaire': 9.0, 'Duree': 60, 'Libelle': 'Hand ball'}, {'IdSportifEntraineur': 1, 'Jour': 'Lundi', 'Horaire': 10.0, 'Duree': 60, 'Libelle': 'Hand ball'}, {'IdSportifEntraineur': 1, 'Jour': 'Lundi', 'Horaire': 11.3, 'Duree': 60, 'Libelle': 'Hand ball'}, {'IdSportifEntraineur': 1, 'Jour': 'Lundi', 'Horaire': 14.0, 'Duree': 90, 'Libelle': 'Hand ball'}, {'IdSportifEntraineur': 1, 'Jour': 'lundi', 'Horaire': 17.3, 'Duree': 120, 'Libelle': 'Hand ball'}, {'IdSportifEntraineur': 1, 'Jour': 'Lundi', 'Horaire': 19.3, 'Duree': 120, 'Libelle': 'Hand ball'}, {'IdSportifEntraineur': 2, 'Jour': 'Dimanche', 'Horaire': 17.3, 'Duree': 120, 'Libelle': 'Hand ball'}, {'IdSportifEntraineur': 2, 'Jour': 'Dimanche', 'Horaire': 19.3, 'Duree': 120, 'Libelle': 'Hand ball'}, {'IdSportifEntraineur': 2, 'Jour': 'mardi', 'Horaire': 17.3, 'Duree': 120, 'Libelle': 'Hand ball'}, {'IdSportifEntraineur': 2, 'Jour': 'mercredi', 'Horaire': 17.3, 'Duree': 120, 'Libelle': 'Hand ball'}, {'IdSportifEntraineur': 2, 'Jour': 'Samedi', 'Horaire': 15.3, 'Duree': 60, 'Libelle': 'Hand ball'}, {'IdSportifEntraineur': 2, 'Jour': 'Samedi', 'Horaire': 16.3, 'Duree': 60, 'Libelle': 'Hand ball'}, {'IdSportifEntraineur': 2, 'Jour': 'Samedi', 'Horaire': 17.3, 'Duree': 120, 'Libelle': 'Hand ball'}, {'IdSportifEntraineur': 3, 'Jour': 'jeudi', 'Horaire': 20.0, 'Duree': 30, 'Libelle': 'Hand ball'}, {'IdSportifEntraineur': 3, 'Jour': 'lundi', 'Horaire': 14.0, 'Duree': 60, 'Libelle': 'Hand ball'}, {'IdSportifEntraineur': 3, 'Jour': 'lundi', 'Horaire': 18.0, 'Duree': 30, 'Libelle': 'Hand ball'}, {'IdSportifEntraineur': 3, 'Jour': 'lundi', 'Horaire': 19.0, 'Duree': 30, 'Libelle': 'Hand ball'}, {'IdSportifEntraineur': 3, 'Jour': 'lundi', 'Horaire': 20.0, 'Duree': 30, 'Libelle': 'Hand ball'}, {'IdSportifEntraineur': 7, 'Jour': 'mercredi', 'Horaire': 17.0, 'Duree': 90, 'Libelle': 'Hockey'}]}\n{'_id': '566eec5f662b388eba464203', 'IdSportif': 1, 'Nom': 'BOUTAHAR', 'Prenom': 'Abderahim', 'Sexe': 'm', 'Age': 30, 'Sports': {'Jouer': ['Volley ball', 'Tennis', 'Football'], 'Arbitrer': ['Basket ball', 'Volley ball', 'Hockey'], 'Entrainer': ['Basket ball', 'Volley ball', 'Hand ball', 'Hockey', 'Badmington']}}\n"
     ]
    }
   ],
   "source": [
    "# 1) Afficher toutes les collections de la base, Compter le nombre de documents ds chacune des collections, Afficher un document de chacune des collections ?\n",
    "try : \n",
    "    # connexion a la base de données\n",
    "    db = client.gym\n",
    "\n",
    "except :\n",
    "    print(\"database introuvable\")\n",
    "\n",
    "# affiches les collections\n",
    "print(db.list_collection_names())\n",
    "sportifs = db.sportifs\n",
    "gymnase = db.Gymnases\n",
    "\n",
    "# affiche le nombre de document\n",
    "print(sportifs.count())\n",
    "print(gymnase.count())\n",
    "\n",
    "# affiche un document de chaque collection\n",
    "print(gymnase.find_one())\n",
    "print(sportifs.find_one())"
   ]
  },
  {
   "cell_type": "code",
   "execution_count": 70,
   "metadata": {
    "tags": []
   },
   "outputs": [
    {
     "output_type": "stream",
     "name": "stdout",
     "text": [
      "{'_id': '566eec5f662b388eba464204', 'IdSportif': 2, 'Nom': 'KERVADEC', 'Prenom': 'Yann', 'Sexe': 'M', 'Age': 28, 'IdSportifConseiller': 1, 'Sports': {'Jouer': ['Basket ball', 'Volley ball', 'Ping pong', 'Football'], 'Arbitrer': ['Hockey', 'Football'], 'Entrainer': ['Basket ball', 'Volley ball', 'Hand ball', 'Tennis', 'Hockey', 'Badmington', 'Ping pong', 'Boxe']}}\n"
     ]
    }
   ],
   "source": [
    "# 2) On cherche le (ou les) conseiller(s) s’appelant \"KERVADEC\" ?\n",
    "for s in sportifs.find({\"Nom\" : \"KERVADEC\"}):\n",
    "    print(s)"
   ]
  },
  {
   "cell_type": "code",
   "execution_count": 71,
   "metadata": {},
   "outputs": [
    {
     "output_type": "stream",
     "name": "stdout",
     "text": [
      "{'_id': '566eec5f662b388eba464206', 'IdSportif': 4, 'Nom': 'DORLEANS', 'Prenom': 'Jean-michel', 'Sexe': 'M', 'Age': 32, 'IdSportifConseiller': 1, 'Sports': {'Jouer': ['Volley ball', 'Football'], 'Arbitrer': ['Basket ball', 'Volley ball', 'Ping pong', 'Boxe'], 'Entrainer': ['Basket ball', 'Ping pong', 'Boxe']}}\n{'_id': '566eec5f662b388eba46421d', 'IdSportif': 28, 'Nom': 'RABAHI', 'Prenom': 'Rabah', 'Sexe': 'M', 'Age': 40, 'IdSportifConseiller': 4, 'Sports': {'Jouer': ['Basket ball', 'Volley ball', 'Hand ball', 'Ping pong', 'Football']}}\n{'_id': '566eec60662b388eba46423d', 'IdSportif': 60, 'Nom': 'TIZEGHAT', 'Prenom': 'Benamar', 'Sexe': 'M', 'Age': 32, 'IdSportifConseiller': 3, 'Sports': {'Jouer': ['Hand ball', 'Tennis', 'Football'], 'Arbitrer': 'Volley ball', 'Entrainer': ['Volley ball', 'Tennis', 'Ping pong']}}\n{'_id': '566eec60662b388eba46423f', 'IdSportif': 62, 'Nom': 'BAZOUD', 'Prenom': 'Jérôme', 'Sexe': 'M', 'Age': 32, 'IdSportifConseiller': 3, 'Sports': {'Jouer': 'Football'}}\n{'_id': '566eec60662b388eba464253', 'IdSportif': 82, 'Nom': 'HOUEL', 'Prenom': 'Jean-louis', 'Sexe': 'M', 'Age': 40, 'IdSportifConseiller': 14, 'Sports': {'Jouer': 'Football'}}\n{'_id': '566eec60662b388eba464264', 'IdSportif': 99, 'Nom': 'BONE', 'Prenom': 'Guy', 'Sexe': 'M', 'Age': 32, 'Sports': {'Jouer': 'Football'}}\n"
     ]
    }
   ],
   "source": [
    "# 3) On cherche les sportifs qui ont ou bien 32 ans ou 40 ans ?\n",
    "for s in sportifs.find({\"$or\":[{\"Age\": 32}, {\"Age\": 40}]}):\n",
    "    print(s)"
   ]
  },
  {
   "cell_type": "code",
   "execution_count": 72,
   "metadata": {},
   "outputs": [
    {
     "output_type": "stream",
     "name": "stdout",
     "text": [
      "{'_id': '566eec5f662b388eba464204', 'IdSportif': 2, 'Nom': 'KERVADEC', 'Prenom': 'Yann', 'Sexe': 'M', 'Age': 28, 'IdSportifConseiller': 1, 'Sports': {'Jouer': ['Basket ball', 'Volley ball', 'Ping pong', 'Football'], 'Arbitrer': ['Hockey', 'Football'], 'Entrainer': ['Basket ball', 'Volley ball', 'Hand ball', 'Tennis', 'Hockey', 'Badmington', 'Ping pong', 'Boxe']}}\n{'_id': '566eec5f662b388eba464207', 'IdSportif': 5, 'Nom': 'COMES', 'Prenom': 'Sylvie', 'Sexe': 'F', 'Age': 22, 'IdSportifConseiller': 1, 'Sports': {'Jouer': ['Basket ball', 'Volley ball', 'Badmington', 'Ping pong'], 'Arbitrer': 'Ping pong'}}\n{'_id': '566eec5f662b388eba464208', 'IdSportif': 6, 'Nom': 'RETALDI', 'Prenom': 'Sophie', 'Sexe': 'F', 'Age': 30, 'IdSportifConseiller': 3, 'Sports': {'Jouer': ['Basket ball', 'Volley ball', 'Hand ball', 'Ping pong'], 'Arbitrer': ['Basket ball', 'Hockey', 'Ping pong'], 'Entrainer': ['Hockey', 'Ping pong', 'Boxe']}}\n{'_id': '566eec5f662b388eba46420f', 'IdSportif': 14, 'Nom': 'CAILLIOT', 'Prenom': 'Stéphanie', 'Sexe': 'F', 'Age': 24, 'IdSportifConseiller': 1, 'Sports': {'Jouer': ['Basket ball', 'Volley ball', 'Ping pong']}}\n{'_id': '566eec5f662b388eba464215', 'IdSportif': 20, 'Nom': 'TIENER', 'Prenom': 'Thomas', 'Sexe': 'M', 'Age': 25, 'IdSportifConseiller': 2, 'Sports': {'Jouer': ['Basket ball', 'Volley ball', 'Hand ball', 'Ping pong', 'Football'], 'Arbitrer': 'Volley ball'}}\n{'_id': '566eec5f662b388eba464217', 'IdSportif': 22, 'Nom': 'LEDUFAUD', 'Prenom': 'Pierre', 'Sexe': 'M', 'Age': 25, 'IdSportifConseiller': 3, 'Sports': {'Jouer': ['Basket ball', 'Volley ball', 'Ping pong', 'Football']}}\n{'_id': '566eec5f662b388eba464219', 'IdSportif': 24, 'Nom': 'LEJEUNE', 'Prenom': 'Sylvaine', 'Sexe': 'F', 'Age': 23, 'IdSportifConseiller': 7, 'Sports': {'Jouer': ['Basket ball', 'Volley ball', 'Badmington', 'Ping pong']}}\n{'_id': '566eec5f662b388eba46421d', 'IdSportif': 28, 'Nom': 'RABAHI', 'Prenom': 'Rabah', 'Sexe': 'M', 'Age': 40, 'IdSportifConseiller': 4, 'Sports': {'Jouer': ['Basket ball', 'Volley ball', 'Hand ball', 'Ping pong', 'Football']}}\n{'_id': '566eec5f662b388eba464221', 'IdSportif': 32, 'Nom': 'VAN CAUTER', 'Prenom': 'Vincent', 'Sexe': 'M', 'Age': 23, 'IdSportifConseiller': 3, 'Sports': {'Jouer': ['Basket ball', 'Volley ball', 'Hand ball', 'Badmington', 'Ping pong', 'Football'], 'Arbitrer': 'Ping pong', 'Entrainer': 'Ping pong'}}\n{'_id': '566eec60662b388eba464224', 'IdSportif': 35, 'Nom': 'TANQUE', 'Prenom': 'Yann', 'Sexe': 'M', 'Age': 24, 'IdSportifConseiller': 4, 'Sports': {'Jouer': ['Basket ball', 'Volley ball', 'Hand ball', 'Ping pong', 'Football'], 'Arbitrer': 'Badmington', 'Entrainer': ['Badmington', 'Ping pong']}}\n{'_id': '566eec60662b388eba464225', 'IdSportif': 36, 'Nom': 'DJELOUDANE', 'Prenom': 'Zinedine', 'Sexe': 'M', 'Age': 28, 'IdSportifConseiller': 1, 'Sports': {'Jouer': ['Basket ball', 'Volley ball', 'Ping pong', 'Football'], 'Entrainer': 'Badmington'}}\n{'_id': '566eec60662b388eba464229', 'IdSportif': 40, 'Nom': 'VALIN', 'Prenom': 'Yann', 'Sexe': 'M', 'Age': 23, 'IdSportifConseiller': 2, 'Sports': {'Jouer': ['Basket ball', 'Hand ball', 'Badmington', 'Ping pong', 'Football'], 'Entrainer': ['Badmington', 'Ping pong']}}\n{'_id': '566eec60662b388eba46422d', 'IdSportif': 44, 'Nom': 'ADIBO', 'Prenom': 'Senamé', 'Sexe': 'M', 'Age': 28, 'IdSportifConseiller': 21, 'Sports': {'Jouer': ['Basket ball', 'Ping pong', 'Football']}}\n{'_id': '566eec60662b388eba464231', 'IdSportif': 48, 'Nom': 'HEDDI', 'Prenom': 'Zohra', 'Sexe': 'F', 'Age': 23, 'IdSportifConseiller': 2, 'Sports': {'Jouer': ['Basket ball', 'Badmington', 'Ping pong'], 'Entrainer': 'Badmington'}}\n{'_id': '566eec60662b388eba464232', 'IdSportif': 49, 'Nom': 'JOUVE', 'Prenom': 'Sandra', 'Sexe': 'F', 'Age': 24, 'IdSportifConseiller': 5, 'Sports': {'Jouer': ['Basket ball', 'Ping pong']}}\n{'_id': '566eec60662b388eba464233', 'IdSportif': 50, 'Nom': 'KALOMBO', 'Prenom': 'Yannick', 'Sexe': 'M', 'Age': 22, 'IdSportifConseiller': 2, 'Sports': {'Jouer': ['Basket ball', 'Badmington', 'Ping pong', 'Football'], 'Entrainer': 'Badmington'}}\n{'_id': '566eec60662b388eba464234', 'IdSportif': 51, 'Nom': 'LOPEZ', 'Prenom': 'Thibaud', 'Sexe': 'M', 'Age': 24, 'IdSportifConseiller': 5, 'Sports': {'Jouer': ['Basket ball', 'Hand ball', 'Ping pong', 'Football']}}\n{'_id': '566eec60662b388eba464235', 'IdSportif': 52, 'Nom': 'DANDOIS', 'Prenom': 'Régis', 'Sexe': 'M', 'Age': 22, 'IdSportifConseiller': 5, 'Sports': {'Jouer': ['Basket ball', 'Badmington', 'Ping pong', 'Football']}}\n{'_id': '566eec60662b388eba464236', 'IdSportif': 53, 'Nom': 'DEMMER', 'Prenom': 'Thomas', 'Sexe': 'M', 'Age': 22, 'IdSportifConseiller': 1, 'Sports': {'Jouer': ['Basket ball', 'Badmington', 'Ping pong', 'Football']}}\n{'_id': '566eec60662b388eba464239', 'IdSportif': 56, 'Nom': 'GUERRAOUI', 'Prenom': 'Zohra', 'Sexe': 'F', 'Age': 25, 'IdSportifConseiller': 1, 'Sports': {'Jouer': ['Basket ball', 'Ping pong'], 'Entrainer': 'Badmington'}}\n{'_id': '566eec60662b388eba46423b', 'IdSportif': 58, 'Nom': 'GUIGUI', 'Prenom': 'Vincent', 'Sexe': 'M', 'Age': 23, 'IdSportifConseiller': 4, 'Sports': {'Jouer': ['Basket ball', 'Badmington', 'Ping pong', 'Football'], 'Entrainer': ['Volley ball', 'Tennis']}}\n{'_id': '566eec60662b388eba46423c', 'IdSportif': 59, 'Nom': 'CLERICE', 'Prenom': 'Stéphanie', 'Sexe': 'F', 'Age': 23, 'Sports': {'Jouer': ['Basket ball', 'Badmington', 'Ping pong'], 'Arbitrer': 'Tennis', 'Entrainer': ['Volley ball', 'Tennis']}}\n{'_id': '566eec60662b388eba464240', 'IdSportif': 63, 'Nom': 'AMAND', 'Prenom': 'Patrick', 'Sexe': 'M', 'Age': 30, 'IdSportifConseiller': 1, 'Sports': {'Jouer': ['Basket ball', 'Ping pong', 'Football']}}\n{'_id': '566eec60662b388eba464246', 'IdSportif': 69, 'Nom': 'MARIE', 'Prenom': 'Paule', 'Sexe': 'F', 'Age': 25, 'IdSportifConseiller': 7, 'Sports': {'Jouer': ['Basket ball', 'Hand ball', 'Ping pong']}}\n{'_id': '566eec60662b388eba46424e', 'IdSportif': 77, 'Nom': 'HEON', 'Prenom': 'Philippe', 'Sexe': 'M', 'Age': 30, 'IdSportifConseiller': 1, 'Sports': {'Jouer': ['Basket ball', 'Ping pong', 'Football']}}\n{'_id': '566eec60662b388eba464251', 'IdSportif': 80, 'Nom': 'HOCHET', 'Prenom': 'Pierre', 'Sexe': 'M', 'Age': 30, 'IdSportifConseiller': 1, 'Sports': {'Jouer': ['Basket ball', 'Ping pong', 'Football']}}\n{'_id': '566eec60662b388eba464256', 'IdSportif': 85, 'Nom': 'HAMARD', 'Prenom': 'Romain', 'Sexe': 'M', 'Age': 30, 'IdSportifConseiller': 2, 'Sports': {'Jouer': ['Basket ball', 'Ping pong', 'Football']}}\n{'_id': '566eec60662b388eba464259', 'IdSportif': 88, 'Nom': 'LEJEUNE', 'Prenom': 'Richard', 'Sexe': 'M', 'Age': 30, 'IdSportifConseiller': 8, 'Sports': {'Jouer': ['Basket ball', 'Ping pong', 'Football']}}\n{'_id': '566eec60662b388eba46425c', 'IdSportif': 91, 'Nom': 'LECHEVALIER', 'Prenom': 'Patrick', 'Sexe': 'M', 'Age': 30, 'IdSportifConseiller': 98, 'Sports': {'Jouer': ['Basket ball', 'Ping pong', 'Football']}}\n{'_id': '566eec60662b388eba46425f', 'IdSportif': 94, 'Nom': 'LEROUX', 'Prenom': 'Paule', 'Sexe': 'M', 'Age': 36, 'IdSportifConseiller': 4, 'Sports': {'Jouer': ['Basket ball', 'Hand ball', 'Ping pong', 'Football'], 'Arbitrer': 'Basket ball'}}\n{'_id': '566eec60662b388eba464263', 'IdSportif': 98, 'Nom': 'RICHARD', 'Prenom': 'William', 'Sexe': 'M', 'Age': 30, 'IdSportifConseiller': 2, 'Sports': {'Jouer': ['Basket ball', 'Hand ball', 'Ping pong', 'Football'], 'Arbitrer': 'Basket ball'}}\n{'_id': '566eec60662b388eba46426a', 'IdSportif': 105, 'Nom': 'STILO', 'Prenom': 'Philippe', 'Sexe': 'M', 'Age': 30, 'IdSportifConseiller': 3, 'Sports': {'Jouer': ['Basket ball', 'Hand ball', 'Ping pong', 'Football'], 'Arbitrer': 'Basket ball'}}\n{'_id': '566eec60662b388eba46426d', 'IdSportif': 108, 'Nom': 'LAURENCE', 'Prenom': 'Serge', 'Sexe': 'M', 'Age': 30, 'IdSportifConseiller': 4, 'Sports': {'Jouer': ['Basket ball', 'Ping pong', 'Football']}}\n{'_id': '566eec60662b388eba46426e', 'IdSportif': 109, 'Nom': 'SAUVAGE', 'Prenom': 'Patrick', 'Sexe': 'M', 'Age': 30, 'IdSportifConseiller': 5, 'Sports': {'Jouer': ['Basket ball', 'Hand ball', 'Ping pong', 'Football']}}\n{'_id': '566eec60662b388eba464277', 'IdSportif': 118, 'Nom': 'FROMENT', 'Prenom': 'Philippe', 'Sexe': 'M', 'Age': 30, 'IdSportifConseiller': 2, 'Sports': {'Jouer': ['Basket ball', 'Ping pong', 'Football']}}\n{'_id': '566eec60662b388eba46427c', 'IdSportif': 123, 'Nom': 'LETHIMONNIER', 'Prenom': 'Victor', 'Sexe': 'M', 'Age': 30, 'IdSportifConseiller': 6, 'Sports': {'Jouer': ['Basket ball', 'Hand ball', 'Ping pong', 'Football']}}\n{'_id': '566eec60662b388eba46427e', 'IdSportif': 125, 'Nom': 'JALON', 'Prenom': 'Patrick', 'Sexe': 'M', 'Age': 30, 'IdSportifConseiller': 2, 'Sports': {'Jouer': ['Basket ball', 'Ping pong', 'Football']}}\n{'_id': '566eec60662b388eba464282', 'IdSportif': 129, 'Nom': 'DABON', 'Prenom': 'Richard', 'Sexe': 'M', 'Age': 30, 'IdSportifConseiller': 3, 'Sports': {'Jouer': ['Basket ball', 'Ping pong', 'Football']}}\n{'_id': '566eec60662b388eba464285', 'IdSportif': 132, 'Nom': 'DORON', 'Prenom': 'Yannick', 'Sexe': 'M', 'Age': 30, 'IdSportifConseiller': 1, 'Sports': {'Jouer': ['Basket ball', 'Ping pong', 'Football']}}\n{'_id': '566eec60662b388eba464296', 'IdSportif': 149, 'Nom': 'BELZ', 'Prenom': 'Sylvianne', 'Sexe': 'F', 'Age': 27, 'IdSportifConseiller': 7, 'Sports': {'Jouer': 'Basket ball', 'Arbitrer': 'Basket ball', 'Entrainer': 'Basket ball'}}\n{'_id': '566eec60662b388eba464298', 'IdSportif': 151, 'Nom': 'HENRY', 'Prenom': 'Maël', 'Sexe': 'M', 'Age': 25, 'IdSportifConseiller': 2, 'Sports': {'Jouer': ['Basket ball', 'Hand ball'], 'Arbitrer': ['Basket ball', 'Hand ball'], 'Entrainer': ['Basket ball', 'Hand ball']}}\n"
     ]
    }
   ],
   "source": [
    "# 4) On cherche les sportifs jouant au Basket-ball ?\n",
    "for s in sportifs.find({'Sports.Jouer' : \"Basket ball\"}):\n",
    "    print(s)"
   ]
  },
  {
   "cell_type": "code",
   "execution_count": 73,
   "metadata": {},
   "outputs": [
    {
     "output_type": "stream",
     "name": "stdout",
     "text": [
      "{'_id': '566eec5f662b388eba464205', 'IdSportif': 3, 'Nom': 'HUE', 'Prenom': 'Pascale', 'Sexe': 'F', 'Age': 25, 'IdSportifConseiller': 1, 'Sports': {'Jouer': ['Volley ball', 'Ping pong'], 'Arbitrer': ['Volley ball', 'Badmington', 'Ping pong'], 'Entrainer': ['Basket ball', 'Volley ball', 'Hand ball', 'Badmington']}}\n{'_id': '566eec5f662b388eba464207', 'IdSportif': 5, 'Nom': 'COMES', 'Prenom': 'Sylvie', 'Sexe': 'F', 'Age': 22, 'IdSportifConseiller': 1, 'Sports': {'Jouer': ['Basket ball', 'Volley ball', 'Badmington', 'Ping pong'], 'Arbitrer': 'Ping pong'}}\n{'_id': '566eec5f662b388eba464208', 'IdSportif': 6, 'Nom': 'RETALDI', 'Prenom': 'Sophie', 'Sexe': 'F', 'Age': 30, 'IdSportifConseiller': 3, 'Sports': {'Jouer': ['Basket ball', 'Volley ball', 'Hand ball', 'Ping pong'], 'Arbitrer': ['Basket ball', 'Hockey', 'Ping pong'], 'Entrainer': ['Hockey', 'Ping pong', 'Boxe']}}\n{'_id': '566eec5f662b388eba46420a', 'IdSportif': 9, 'Nom': 'ANTUNES', 'Prenom': 'Gaêlle', 'Sexe': 'F', 'Age': 23, 'IdSportifConseiller': 4, 'Sports': {'Jouer': ['Volley ball', 'Tennis', 'Badmington']}}\n{'_id': '566eec5f662b388eba46420f', 'IdSportif': 14, 'Nom': 'CAILLIOT', 'Prenom': 'Stéphanie', 'Sexe': 'F', 'Age': 24, 'IdSportifConseiller': 1, 'Sports': {'Jouer': ['Basket ball', 'Volley ball', 'Ping pong']}}\n{'_id': '566eec5f662b388eba464213', 'IdSportif': 18, 'Nom': 'HOSNI', 'Prenom': 'Leila', 'Sexe': 'F', 'Age': 25, 'IdSportifConseiller': 5, 'Sports': {'Jouer': 'Volley ball'}}\n{'_id': '566eec5f662b388eba464219', 'IdSportif': 24, 'Nom': 'LEJEUNE', 'Prenom': 'Sylvaine', 'Sexe': 'F', 'Age': 23, 'IdSportifConseiller': 7, 'Sports': {'Jouer': ['Basket ball', 'Volley ball', 'Badmington', 'Ping pong']}}\n{'_id': '566eec5f662b388eba46421b', 'IdSportif': 26, 'Nom': 'MICHEL', 'Prenom': 'Frédérique', 'Sexe': 'F', 'Age': 23, 'IdSportifConseiller': 3, 'Sports': {'Jouer': ['Volley ball', 'Hand ball', 'Tennis', 'Badmington']}}\n{'_id': '566eec5f662b388eba46421d', 'IdSportif': 28, 'Nom': 'RABAHI', 'Prenom': 'Rabah', 'Sexe': 'M', 'Age': 40, 'IdSportifConseiller': 4, 'Sports': {'Jouer': ['Basket ball', 'Volley ball', 'Hand ball', 'Ping pong', 'Football']}}\n{'_id': '566eec5f662b388eba46421e', 'IdSportif': 29, 'Nom': 'ROUSSEL', 'Prenom': 'Nadège', 'Sexe': 'F', 'Age': 22, 'IdSportifConseiller': 5, 'Sports': {'Jouer': ['Volley ball', 'Hand ball', 'Badmington', 'Ping pong'], 'Arbitrer': 'Ping pong', 'Entrainer': 'Ping pong'}}\n{'_id': '566eec60662b388eba464226', 'IdSportif': 37, 'Nom': 'LAZZARI', 'Prenom': 'Magali', 'Sexe': 'F', 'Age': 25, 'IdSportifConseiller': 44, 'Sports': {'Jouer': 'Volley ball'}}\n{'_id': '566eec60662b388eba46422a', 'IdSportif': 41, 'Nom': 'DELOVINA', 'Prenom': 'Elina', 'Sexe': 'F', 'Age': 22, 'IdSportifConseiller': 7, 'Sports': {'Jouer': ['Tennis', 'Badmington']}}\n{'_id': '566eec60662b388eba46422c', 'IdSportif': 43, 'Nom': 'MATHIEU', 'Prenom': 'Denise', 'Sexe': 'F', 'Age': 23, 'IdSportifConseiller': 6, 'Sports': {'Jouer': ['Hand ball', 'Tennis', 'Badmington']}}\n{'_id': '566eec60662b388eba464230', 'IdSportif': 47, 'Nom': 'GROEN', 'Prenom': 'Céline', 'Sexe': 'F', 'Age': 25, 'IdSportifConseiller': 2, 'Sports': {'Jouer': 'Tennis'}}\n{'_id': '566eec60662b388eba464231', 'IdSportif': 48, 'Nom': 'HEDDI', 'Prenom': 'Zohra', 'Sexe': 'F', 'Age': 23, 'IdSportifConseiller': 2, 'Sports': {'Jouer': ['Basket ball', 'Badmington', 'Ping pong'], 'Entrainer': 'Badmington'}}\n{'_id': '566eec60662b388eba464232', 'IdSportif': 49, 'Nom': 'JOUVE', 'Prenom': 'Sandra', 'Sexe': 'F', 'Age': 24, 'IdSportifConseiller': 5, 'Sports': {'Jouer': ['Basket ball', 'Ping pong']}}\n{'_id': '566eec60662b388eba464239', 'IdSportif': 56, 'Nom': 'GUERRAOUI', 'Prenom': 'Zohra', 'Sexe': 'F', 'Age': 25, 'IdSportifConseiller': 1, 'Sports': {'Jouer': ['Basket ball', 'Ping pong'], 'Entrainer': 'Badmington'}}\n{'_id': '566eec60662b388eba46423c', 'IdSportif': 59, 'Nom': 'CLERICE', 'Prenom': 'Stéphanie', 'Sexe': 'F', 'Age': 23, 'Sports': {'Jouer': ['Basket ball', 'Badmington', 'Ping pong'], 'Arbitrer': 'Tennis', 'Entrainer': ['Volley ball', 'Tennis']}}\n{'_id': '566eec60662b388eba464241', 'IdSportif': 64, 'Nom': 'LANOE', 'Prenom': 'Françoise', 'Sexe': 'F', 'Age': 30, 'IdSportifConseiller': 2, 'Sports': {'Jouer': 'Tennis'}}\n{'_id': '566eec60662b388eba464244', 'IdSportif': 67, 'Nom': 'VONTHRON', 'Prenom': 'Dominique', 'Sexe': 'F', 'Age': 26, 'IdSportifConseiller': 2, 'Sports': {'Jouer': ['Hand ball', 'Tennis']}}\n{'_id': '566eec60662b388eba464245', 'IdSportif': 68, 'Nom': 'REGNAULD', 'Prenom': 'Jeanne', 'Sexe': 'F', 'Age': 30, 'IdSportifConseiller': 2, 'Sports': {'Jouer': 'Hand ball'}}\n{'_id': '566eec60662b388eba464246', 'IdSportif': 69, 'Nom': 'MARIE', 'Prenom': 'Paule', 'Sexe': 'F', 'Age': 25, 'IdSportifConseiller': 7, 'Sports': {'Jouer': ['Basket ball', 'Hand ball', 'Ping pong']}}\n{'_id': '566eec60662b388eba46424c', 'IdSportif': 75, 'Nom': 'SARRAZIN', 'Prenom': 'Noëlle', 'Sexe': 'F', 'Age': 39, 'IdSportifConseiller': 1, 'Sports': {'Jouer': ['Hand ball', 'Ping pong']}}\n{'_id': '566eec60662b388eba46424d', 'IdSportif': 76, 'Nom': 'HALGATTE', 'Prenom': 'Claude', 'Sexe': 'F', 'Age': 30, 'IdSportifConseiller': 21, 'Sports': {'Jouer': 'Tennis'}}\n{'_id': '566eec60662b388eba464252', 'IdSportif': 81, 'Nom': 'DROULLON', 'Prenom': 'Joëlle', 'Sexe': 'F', 'Age': 30, 'IdSportifConseiller': 1}\n{'_id': '566eec60662b388eba464253', 'IdSportif': 82, 'Nom': 'HOUEL', 'Prenom': 'Jean-louis', 'Sexe': 'M', 'Age': 40, 'IdSportifConseiller': 14, 'Sports': {'Jouer': 'Football'}}\n{'_id': '566eec60662b388eba46425f', 'IdSportif': 94, 'Nom': 'LEROUX', 'Prenom': 'Paule', 'Sexe': 'M', 'Age': 36, 'IdSportifConseiller': 4, 'Sports': {'Jouer': ['Basket ball', 'Hand ball', 'Ping pong', 'Football'], 'Arbitrer': 'Basket ball'}}\n{'_id': '566eec60662b388eba464269', 'IdSportif': 104, 'Nom': 'SEHIER', 'Prenom': 'Dominique', 'Sexe': 'F', 'Age': 30, 'IdSportifConseiller': 1, 'Sports': {'Jouer': ['Hand ball', 'Tennis']}}\n{'_id': '566eec60662b388eba464273', 'IdSportif': 114, 'Nom': 'MICHEL', 'Prenom': 'Danielle', 'Sexe': 'F', 'Age': 22, 'IdSportifConseiller': 5, 'Sports': {'Jouer': ['Hand ball', 'Tennis', 'Badmington']}}\n{'_id': '566eec60662b388eba464275', 'IdSportif': 116, 'Nom': 'BELUAU', 'Prenom': 'Gilberte', 'Sexe': 'F', 'Age': 30, 'IdSportifConseiller': 8}\n{'_id': '566eec60662b388eba464276', 'IdSportif': 117, 'Nom': 'FERREIRA', 'Prenom': 'Martine', 'Sexe': 'F', 'Age': 30, 'IdSportifConseiller': 2}\n{'_id': '566eec60662b388eba46427b', 'IdSportif': 122, 'Nom': 'BECQUET', 'Prenom': 'Erika', 'Sexe': 'F', 'Age': 30, 'IdSportifConseiller': 6, 'Sports': {'Jouer': 'Tennis'}}\n{'_id': '566eec60662b388eba46427d', 'IdSportif': 124, 'Nom': 'SWERTVAEGER', 'Prenom': 'Michelle', 'Sexe': 'F', 'Age': 30, 'IdSportifConseiller': 2, 'Sports': {'Jouer': 'Hand ball'}}\n{'_id': '566eec60662b388eba464284', 'IdSportif': 131, 'Nom': 'GALLOIS', 'Prenom': 'Michelle', 'Sexe': 'F', 'Age': 30, 'IdSportifConseiller': 2}\n{'_id': '566eec60662b388eba464289', 'IdSportif': 136, 'Nom': 'LABOULAIS', 'Prenom': 'Chloé', 'Sexe': 'F', 'Age': 26, 'IdSportifConseiller': 2, 'Sports': {'Jouer': 'Tennis'}}\n{'_id': '566eec60662b388eba46428a', 'IdSportif': 137, 'Nom': 'DUDOUIT', 'Prenom': 'Chloé', 'Sexe': 'F', 'Age': 26, 'IdSportifConseiller': 2, 'Sports': {'Jouer': 'Tennis'}}\n{'_id': '566eec60662b388eba46428b', 'IdSportif': 138, 'Nom': 'MADELAINE', 'Prenom': 'Chloé', 'Sexe': 'F', 'Age': 26, 'IdSportifConseiller': 1, 'Sports': {'Jouer': ['Hand ball', 'Tennis']}}\n{'_id': '566eec60662b388eba46428c', 'IdSportif': 139, 'Nom': 'BESNARD', 'Prenom': 'Chloé', 'Sexe': 'F', 'Age': 26, 'IdSportifConseiller': 4, 'Sports': {'Jouer': 'Tennis'}}\n{'_id': '566eec60662b388eba46428d', 'IdSportif': 140, 'Nom': 'BELZ', 'Prenom': 'Chloé', 'Sexe': 'F', 'Age': 26, 'IdSportifConseiller': 7, 'Sports': {'Jouer': 'Tennis'}}\n{'_id': '566eec60662b388eba46428e', 'IdSportif': 141, 'Nom': 'BONNET', 'Prenom': 'Chloé', 'Sexe': 'F', 'Age': 26, 'IdSportifConseiller': 5, 'Sports': {'Jouer': 'Tennis'}}\n{'_id': '566eec60662b388eba46428f', 'IdSportif': 142, 'Nom': 'CORNET', 'Prenom': 'Chloé', 'Sexe': 'F', 'Age': 26, 'IdSportifConseiller': 1, 'Sports': {'Jouer': 'Tennis'}}\n{'_id': '566eec60662b388eba464290', 'IdSportif': 143, 'Nom': 'BEUZELIN', 'Prenom': 'Chloé', 'Sexe': 'F', 'Age': 26, 'IdSportifConseiller': 5, 'Sports': {'Jouer': 'Tennis'}}\n{'_id': '566eec60662b388eba464291', 'IdSportif': 144, 'Nom': 'GRANDIDIER', 'Prenom': 'Chloé', 'Sexe': 'F', 'Age': 26, 'IdSportifConseiller': 2, 'Sports': {'Jouer': 'Tennis'}}\n{'_id': '566eec60662b388eba464292', 'IdSportif': 145, 'Nom': 'LENEVEU', 'Prenom': 'Marie', 'Sexe': 'F', 'Age': 25, 'IdSportifConseiller': 2}\n{'_id': '566eec60662b388eba464294', 'IdSportif': 147, 'Nom': 'CLERICE', 'Prenom': 'Alice', 'Sexe': 'F', 'Age': 25, 'IdSportifConseiller': 2}\n{'_id': '566eec60662b388eba464295', 'IdSportif': 148, 'Nom': 'COMES', 'Prenom': 'Marie', 'Sexe': 'F', 'Age': 27, 'IdSportifConseiller': 1}\n{'_id': '566eec60662b388eba464296', 'IdSportif': 149, 'Nom': 'BELZ', 'Prenom': 'Sylvianne', 'Sexe': 'F', 'Age': 27, 'IdSportifConseiller': 7, 'Sports': {'Jouer': 'Basket ball', 'Arbitrer': 'Basket ball', 'Entrainer': 'Basket ball'}}\n"
     ]
    }
   ],
   "source": [
    "# 5) On cherche les sportifs ayant au moins 32 ans, ou de sexe féminin ?\n",
    "for s in sportifs.find({\"$or\":[{\"Sexe\": \"F\"}, {\"Age\": {\"$gt\":32}}]}):\n",
    "    print(s)"
   ]
  },
  {
   "cell_type": "code",
   "execution_count": 74,
   "metadata": {},
   "outputs": [
    {
     "output_type": "stream",
     "name": "stdout",
     "text": [
      "{'_id': '566eec5f662b388eba464205', 'IdSportif': 3, 'Nom': 'HUE', 'Prenom': 'Pascale', 'Sexe': 'F', 'Age': 25, 'IdSportifConseiller': 1, 'Sports': {'Jouer': ['Volley ball', 'Ping pong'], 'Arbitrer': ['Volley ball', 'Badmington', 'Ping pong'], 'Entrainer': ['Basket ball', 'Volley ball', 'Hand ball', 'Badmington']}}\n{'_id': '566eec5f662b388eba464207', 'IdSportif': 5, 'Nom': 'COMES', 'Prenom': 'Sylvie', 'Sexe': 'F', 'Age': 22, 'IdSportifConseiller': 1, 'Sports': {'Jouer': ['Basket ball', 'Volley ball', 'Badmington', 'Ping pong'], 'Arbitrer': 'Ping pong'}}\n{'_id': '566eec5f662b388eba464208', 'IdSportif': 6, 'Nom': 'RETALDI', 'Prenom': 'Sophie', 'Sexe': 'F', 'Age': 30, 'IdSportifConseiller': 3, 'Sports': {'Jouer': ['Basket ball', 'Volley ball', 'Hand ball', 'Ping pong'], 'Arbitrer': ['Basket ball', 'Hockey', 'Ping pong'], 'Entrainer': ['Hockey', 'Ping pong', 'Boxe']}}\n{'_id': '566eec5f662b388eba46420a', 'IdSportif': 9, 'Nom': 'ANTUNES', 'Prenom': 'Gaêlle', 'Sexe': 'F', 'Age': 23, 'IdSportifConseiller': 4, 'Sports': {'Jouer': ['Volley ball', 'Tennis', 'Badmington']}}\n{'_id': '566eec5f662b388eba46420f', 'IdSportif': 14, 'Nom': 'CAILLIOT', 'Prenom': 'Stéphanie', 'Sexe': 'F', 'Age': 24, 'IdSportifConseiller': 1, 'Sports': {'Jouer': ['Basket ball', 'Volley ball', 'Ping pong']}}\n{'_id': '566eec5f662b388eba464213', 'IdSportif': 18, 'Nom': 'HOSNI', 'Prenom': 'Leila', 'Sexe': 'F', 'Age': 25, 'IdSportifConseiller': 5, 'Sports': {'Jouer': 'Volley ball'}}\n{'_id': '566eec5f662b388eba464219', 'IdSportif': 24, 'Nom': 'LEJEUNE', 'Prenom': 'Sylvaine', 'Sexe': 'F', 'Age': 23, 'IdSportifConseiller': 7, 'Sports': {'Jouer': ['Basket ball', 'Volley ball', 'Badmington', 'Ping pong']}}\n{'_id': '566eec5f662b388eba46421b', 'IdSportif': 26, 'Nom': 'MICHEL', 'Prenom': 'Frédérique', 'Sexe': 'F', 'Age': 23, 'IdSportifConseiller': 3, 'Sports': {'Jouer': ['Volley ball', 'Hand ball', 'Tennis', 'Badmington']}}\n{'_id': '566eec5f662b388eba46421e', 'IdSportif': 29, 'Nom': 'ROUSSEL', 'Prenom': 'Nadège', 'Sexe': 'F', 'Age': 22, 'IdSportifConseiller': 5, 'Sports': {'Jouer': ['Volley ball', 'Hand ball', 'Badmington', 'Ping pong'], 'Arbitrer': 'Ping pong', 'Entrainer': 'Ping pong'}}\n{'_id': '566eec60662b388eba464226', 'IdSportif': 37, 'Nom': 'LAZZARI', 'Prenom': 'Magali', 'Sexe': 'F', 'Age': 25, 'IdSportifConseiller': 44, 'Sports': {'Jouer': 'Volley ball'}}\n{'_id': '566eec60662b388eba46422a', 'IdSportif': 41, 'Nom': 'DELOVINA', 'Prenom': 'Elina', 'Sexe': 'F', 'Age': 22, 'IdSportifConseiller': 7, 'Sports': {'Jouer': ['Tennis', 'Badmington']}}\n{'_id': '566eec60662b388eba46422c', 'IdSportif': 43, 'Nom': 'MATHIEU', 'Prenom': 'Denise', 'Sexe': 'F', 'Age': 23, 'IdSportifConseiller': 6, 'Sports': {'Jouer': ['Hand ball', 'Tennis', 'Badmington']}}\n{'_id': '566eec60662b388eba464230', 'IdSportif': 47, 'Nom': 'GROEN', 'Prenom': 'Céline', 'Sexe': 'F', 'Age': 25, 'IdSportifConseiller': 2, 'Sports': {'Jouer': 'Tennis'}}\n{'_id': '566eec60662b388eba464231', 'IdSportif': 48, 'Nom': 'HEDDI', 'Prenom': 'Zohra', 'Sexe': 'F', 'Age': 23, 'IdSportifConseiller': 2, 'Sports': {'Jouer': ['Basket ball', 'Badmington', 'Ping pong'], 'Entrainer': 'Badmington'}}\n{'_id': '566eec60662b388eba464232', 'IdSportif': 49, 'Nom': 'JOUVE', 'Prenom': 'Sandra', 'Sexe': 'F', 'Age': 24, 'IdSportifConseiller': 5, 'Sports': {'Jouer': ['Basket ball', 'Ping pong']}}\n{'_id': '566eec60662b388eba464239', 'IdSportif': 56, 'Nom': 'GUERRAOUI', 'Prenom': 'Zohra', 'Sexe': 'F', 'Age': 25, 'IdSportifConseiller': 1, 'Sports': {'Jouer': ['Basket ball', 'Ping pong'], 'Entrainer': 'Badmington'}}\n{'_id': '566eec60662b388eba46423c', 'IdSportif': 59, 'Nom': 'CLERICE', 'Prenom': 'Stéphanie', 'Sexe': 'F', 'Age': 23, 'Sports': {'Jouer': ['Basket ball', 'Badmington', 'Ping pong'], 'Arbitrer': 'Tennis', 'Entrainer': ['Volley ball', 'Tennis']}}\n{'_id': '566eec60662b388eba464241', 'IdSportif': 64, 'Nom': 'LANOE', 'Prenom': 'Françoise', 'Sexe': 'F', 'Age': 30, 'IdSportifConseiller': 2, 'Sports': {'Jouer': 'Tennis'}}\n{'_id': '566eec60662b388eba464244', 'IdSportif': 67, 'Nom': 'VONTHRON', 'Prenom': 'Dominique', 'Sexe': 'F', 'Age': 26, 'IdSportifConseiller': 2, 'Sports': {'Jouer': ['Hand ball', 'Tennis']}}\n{'_id': '566eec60662b388eba464245', 'IdSportif': 68, 'Nom': 'REGNAULD', 'Prenom': 'Jeanne', 'Sexe': 'F', 'Age': 30, 'IdSportifConseiller': 2, 'Sports': {'Jouer': 'Hand ball'}}\n{'_id': '566eec60662b388eba464246', 'IdSportif': 69, 'Nom': 'MARIE', 'Prenom': 'Paule', 'Sexe': 'F', 'Age': 25, 'IdSportifConseiller': 7, 'Sports': {'Jouer': ['Basket ball', 'Hand ball', 'Ping pong']}}\n{'_id': '566eec60662b388eba46424c', 'IdSportif': 75, 'Nom': 'SARRAZIN', 'Prenom': 'Noëlle', 'Sexe': 'F', 'Age': 39, 'IdSportifConseiller': 1, 'Sports': {'Jouer': ['Hand ball', 'Ping pong']}}\n{'_id': '566eec60662b388eba46424d', 'IdSportif': 76, 'Nom': 'HALGATTE', 'Prenom': 'Claude', 'Sexe': 'F', 'Age': 30, 'IdSportifConseiller': 21, 'Sports': {'Jouer': 'Tennis'}}\n{'_id': '566eec60662b388eba464252', 'IdSportif': 81, 'Nom': 'DROULLON', 'Prenom': 'Joëlle', 'Sexe': 'F', 'Age': 30, 'IdSportifConseiller': 1}\n{'_id': '566eec60662b388eba464269', 'IdSportif': 104, 'Nom': 'SEHIER', 'Prenom': 'Dominique', 'Sexe': 'F', 'Age': 30, 'IdSportifConseiller': 1, 'Sports': {'Jouer': ['Hand ball', 'Tennis']}}\n{'_id': '566eec60662b388eba464273', 'IdSportif': 114, 'Nom': 'MICHEL', 'Prenom': 'Danielle', 'Sexe': 'F', 'Age': 22, 'IdSportifConseiller': 5, 'Sports': {'Jouer': ['Hand ball', 'Tennis', 'Badmington']}}\n{'_id': '566eec60662b388eba464275', 'IdSportif': 116, 'Nom': 'BELUAU', 'Prenom': 'Gilberte', 'Sexe': 'F', 'Age': 30, 'IdSportifConseiller': 8}\n{'_id': '566eec60662b388eba464276', 'IdSportif': 117, 'Nom': 'FERREIRA', 'Prenom': 'Martine', 'Sexe': 'F', 'Age': 30, 'IdSportifConseiller': 2}\n{'_id': '566eec60662b388eba46427b', 'IdSportif': 122, 'Nom': 'BECQUET', 'Prenom': 'Erika', 'Sexe': 'F', 'Age': 30, 'IdSportifConseiller': 6, 'Sports': {'Jouer': 'Tennis'}}\n{'_id': '566eec60662b388eba46427d', 'IdSportif': 124, 'Nom': 'SWERTVAEGER', 'Prenom': 'Michelle', 'Sexe': 'F', 'Age': 30, 'IdSportifConseiller': 2, 'Sports': {'Jouer': 'Hand ball'}}\n{'_id': '566eec60662b388eba464284', 'IdSportif': 131, 'Nom': 'GALLOIS', 'Prenom': 'Michelle', 'Sexe': 'F', 'Age': 30, 'IdSportifConseiller': 2}\n{'_id': '566eec60662b388eba464289', 'IdSportif': 136, 'Nom': 'LABOULAIS', 'Prenom': 'Chloé', 'Sexe': 'F', 'Age': 26, 'IdSportifConseiller': 2, 'Sports': {'Jouer': 'Tennis'}}\n{'_id': '566eec60662b388eba46428a', 'IdSportif': 137, 'Nom': 'DUDOUIT', 'Prenom': 'Chloé', 'Sexe': 'F', 'Age': 26, 'IdSportifConseiller': 2, 'Sports': {'Jouer': 'Tennis'}}\n{'_id': '566eec60662b388eba46428b', 'IdSportif': 138, 'Nom': 'MADELAINE', 'Prenom': 'Chloé', 'Sexe': 'F', 'Age': 26, 'IdSportifConseiller': 1, 'Sports': {'Jouer': ['Hand ball', 'Tennis']}}\n{'_id': '566eec60662b388eba46428c', 'IdSportif': 139, 'Nom': 'BESNARD', 'Prenom': 'Chloé', 'Sexe': 'F', 'Age': 26, 'IdSportifConseiller': 4, 'Sports': {'Jouer': 'Tennis'}}\n{'_id': '566eec60662b388eba46428d', 'IdSportif': 140, 'Nom': 'BELZ', 'Prenom': 'Chloé', 'Sexe': 'F', 'Age': 26, 'IdSportifConseiller': 7, 'Sports': {'Jouer': 'Tennis'}}\n{'_id': '566eec60662b388eba46428e', 'IdSportif': 141, 'Nom': 'BONNET', 'Prenom': 'Chloé', 'Sexe': 'F', 'Age': 26, 'IdSportifConseiller': 5, 'Sports': {'Jouer': 'Tennis'}}\n{'_id': '566eec60662b388eba46428f', 'IdSportif': 142, 'Nom': 'CORNET', 'Prenom': 'Chloé', 'Sexe': 'F', 'Age': 26, 'IdSportifConseiller': 1, 'Sports': {'Jouer': 'Tennis'}}\n{'_id': '566eec60662b388eba464290', 'IdSportif': 143, 'Nom': 'BEUZELIN', 'Prenom': 'Chloé', 'Sexe': 'F', 'Age': 26, 'IdSportifConseiller': 5, 'Sports': {'Jouer': 'Tennis'}}\n{'_id': '566eec60662b388eba464291', 'IdSportif': 144, 'Nom': 'GRANDIDIER', 'Prenom': 'Chloé', 'Sexe': 'F', 'Age': 26, 'IdSportifConseiller': 2, 'Sports': {'Jouer': 'Tennis'}}\n{'_id': '566eec60662b388eba464292', 'IdSportif': 145, 'Nom': 'LENEVEU', 'Prenom': 'Marie', 'Sexe': 'F', 'Age': 25, 'IdSportifConseiller': 2}\n{'_id': '566eec60662b388eba464294', 'IdSportif': 147, 'Nom': 'CLERICE', 'Prenom': 'Alice', 'Sexe': 'F', 'Age': 25, 'IdSportifConseiller': 2}\n{'_id': '566eec60662b388eba464295', 'IdSportif': 148, 'Nom': 'COMES', 'Prenom': 'Marie', 'Sexe': 'F', 'Age': 27, 'IdSportifConseiller': 1}\n{'_id': '566eec60662b388eba464296', 'IdSportif': 149, 'Nom': 'BELZ', 'Prenom': 'Sylvianne', 'Sexe': 'F', 'Age': 27, 'IdSportifConseiller': 7, 'Sports': {'Jouer': 'Basket ball', 'Arbitrer': 'Basket ball', 'Entrainer': 'Basket ball'}}\n"
     ]
    }
   ],
   "source": [
    "# 6) Trouver le nombre de sportifs de sexe féminin dans la base ?\n",
    "for s in sportifs.find({'Sexe' : \"F\"}):\n",
    "    print(s)"
   ]
  },
  {
   "cell_type": "code",
   "execution_count": 75,
   "metadata": {},
   "outputs": [
    {
     "output_type": "stream",
     "name": "stdout",
     "text": [
      "{'_id': '566eec5f662b388eba464204', 'IdSportif': 2, 'Nom': 'KERVADEC', 'Prenom': 'Yann', 'Sexe': 'M', 'Age': 28, 'IdSportifConseiller': 1, 'Sports': {'Jouer': ['Basket ball', 'Volley ball', 'Ping pong', 'Football'], 'Arbitrer': ['Hockey', 'Football'], 'Entrainer': ['Basket ball', 'Volley ball', 'Hand ball', 'Tennis', 'Hockey', 'Badmington', 'Ping pong', 'Boxe']}}\n{'_id': '566eec5f662b388eba464205', 'IdSportif': 3, 'Nom': 'HUE', 'Prenom': 'Pascale', 'Sexe': 'F', 'Age': 25, 'IdSportifConseiller': 1, 'Sports': {'Jouer': ['Volley ball', 'Ping pong'], 'Arbitrer': ['Volley ball', 'Badmington', 'Ping pong'], 'Entrainer': ['Basket ball', 'Volley ball', 'Hand ball', 'Badmington']}}\n{'_id': '566eec5f662b388eba464207', 'IdSportif': 5, 'Nom': 'COMES', 'Prenom': 'Sylvie', 'Sexe': 'F', 'Age': 22, 'IdSportifConseiller': 1, 'Sports': {'Jouer': ['Basket ball', 'Volley ball', 'Badmington', 'Ping pong'], 'Arbitrer': 'Ping pong'}}\n{'_id': '566eec5f662b388eba464209', 'IdSportif': 7, 'Nom': 'GOMEZ', 'Prenom': 'Diego', 'Sexe': 'M', 'Age': 25, 'IdSportifConseiller': 2, 'Sports': {'Jouer': ['Volley ball', 'Tennis', 'Football'], 'Arbitrer': ['Volley ball', 'Hand ball', 'Hockey'], 'Entrainer': ['Volley ball', 'Hand ball', 'Hockey', 'Badmington']}}\n{'_id': '566eec5f662b388eba46420a', 'IdSportif': 9, 'Nom': 'ANTUNES', 'Prenom': 'Gaêlle', 'Sexe': 'F', 'Age': 23, 'IdSportifConseiller': 4, 'Sports': {'Jouer': ['Volley ball', 'Tennis', 'Badmington']}}\n{'_id': '566eec5f662b388eba46420b', 'IdSportif': 10, 'Nom': 'BLANDET', 'Prenom': 'Arnaud', 'Sexe': 'M', 'Age': 23, 'IdSportifConseiller': 2, 'Sports': {'Jouer': ['Volley ball', 'Tennis', 'Badmington', 'Football']}}\n{'_id': '566eec5f662b388eba46420c', 'IdSportif': 11, 'Nom': 'BONNET', 'Prenom': 'Christophe', 'Sexe': 'M', 'Age': 24, 'IdSportifConseiller': 6, 'Sports': {'Jouer': ['Volley ball', 'Tennis', 'Football']}}\n{'_id': '566eec5f662b388eba46420d', 'IdSportif': 12, 'Nom': 'BORREL', 'Prenom': 'Benoît', 'Sexe': 'M', 'Age': 24, 'IdSportifConseiller': 8, 'Sports': {'Jouer': ['Volley ball', 'Tennis', 'Football']}}\n{'_id': '566eec5f662b388eba46420e', 'IdSportif': 13, 'Nom': 'BOYON', 'Prenom': 'Julien', 'Sexe': 'M', 'Age': 22, 'IdSportifConseiller': 4, 'Sports': {'Jouer': ['Volley ball', 'Badmington', 'Football']}}\n{'_id': '566eec5f662b388eba46420f', 'IdSportif': 14, 'Nom': 'CAILLIOT', 'Prenom': 'Stéphanie', 'Sexe': 'F', 'Age': 24, 'IdSportifConseiller': 1, 'Sports': {'Jouer': ['Basket ball', 'Volley ball', 'Ping pong']}}\n{'_id': '566eec5f662b388eba464210', 'IdSportif': 15, 'Nom': 'CHAMPENOIS', 'Prenom': 'Cédric', 'Sexe': 'M', 'Age': 25, 'IdSportifConseiller': 3, 'Sports': {'Jouer': ['Volley ball', 'Tennis', 'Football']}}\n{'_id': '566eec5f662b388eba464211', 'IdSportif': 16, 'Nom': 'COLAS', 'Prenom': 'Michaël', 'Sexe': 'M', 'Age': 24, 'IdSportifConseiller': 8, 'Sports': {'Jouer': ['Volley ball', 'Football']}}\n{'_id': '566eec5f662b388eba464212', 'IdSportif': 17, 'Nom': 'COLOMB', 'Prenom': 'Michaël', 'Sexe': 'M', 'Age': 22, 'IdSportifConseiller': 7, 'Sports': {'Jouer': ['Volley ball', 'Badmington', 'Football']}}\n{'_id': '566eec5f662b388eba464213', 'IdSportif': 18, 'Nom': 'HOSNI', 'Prenom': 'Leila', 'Sexe': 'F', 'Age': 25, 'IdSportifConseiller': 5, 'Sports': {'Jouer': 'Volley ball'}}\n{'_id': '566eec5f662b388eba464214', 'IdSportif': 19, 'Nom': 'TESTEMONT', 'Prenom': 'Laurent', 'Sexe': 'M', 'Age': 25, 'IdSportifConseiller': 1, 'Sports': {'Jouer': ['Volley ball', 'Hand ball', 'Football'], 'Arbitrer': 'Volley ball'}}\n{'_id': '566eec5f662b388eba464215', 'IdSportif': 20, 'Nom': 'TIENER', 'Prenom': 'Thomas', 'Sexe': 'M', 'Age': 25, 'IdSportifConseiller': 2, 'Sports': {'Jouer': ['Basket ball', 'Volley ball', 'Hand ball', 'Ping pong', 'Football'], 'Arbitrer': 'Volley ball'}}\n{'_id': '566eec5f662b388eba464216', 'IdSportif': 21, 'Nom': 'LE BOUCHER', 'Prenom': 'Denis', 'Sexe': 'M', 'Age': 22, 'IdSportifConseiller': 2, 'Sports': {'Jouer': ['Volley ball', 'Tennis', 'Badmington', 'Football']}}\n{'_id': '566eec5f662b388eba464217', 'IdSportif': 22, 'Nom': 'LEDUFAUD', 'Prenom': 'Pierre', 'Sexe': 'M', 'Age': 25, 'IdSportifConseiller': 3, 'Sports': {'Jouer': ['Basket ball', 'Volley ball', 'Ping pong', 'Football']}}\n{'_id': '566eec5f662b388eba464218', 'IdSportif': 23, 'Nom': 'LEGRAND', 'Prenom': 'David', 'Sexe': 'M', 'Age': 24, 'IdSportifConseiller': 2, 'Sports': {'Jouer': ['Volley ball', 'Tennis', 'Football']}}\n{'_id': '566eec5f662b388eba464219', 'IdSportif': 24, 'Nom': 'LEJEUNE', 'Prenom': 'Sylvaine', 'Sexe': 'F', 'Age': 23, 'IdSportifConseiller': 7, 'Sports': {'Jouer': ['Basket ball', 'Volley ball', 'Badmington', 'Ping pong']}}\n{'_id': '566eec5f662b388eba46421a', 'IdSportif': 25, 'Nom': 'MARTORA', 'Prenom': 'Fabrice', 'Sexe': 'M', 'Age': 23, 'IdSportifConseiller': 9, 'Sports': {'Jouer': ['Volley ball', 'Hand ball', 'Tennis', 'Badmington', 'Football']}}\n{'_id': '566eec5f662b388eba46421b', 'IdSportif': 26, 'Nom': 'MICHEL', 'Prenom': 'Frédérique', 'Sexe': 'F', 'Age': 23, 'IdSportifConseiller': 3, 'Sports': {'Jouer': ['Volley ball', 'Hand ball', 'Tennis', 'Badmington']}}\n{'_id': '566eec5f662b388eba46421c', 'IdSportif': 27, 'Nom': 'NIELLEZ', 'Prenom': 'Christophe', 'Sexe': 'M', 'Age': 23, 'IdSportifConseiller': 7, 'Sports': {'Jouer': ['Volley ball', 'Hand ball', 'Tennis', 'Badmington', 'Football']}}\n{'_id': '566eec5f662b388eba46421e', 'IdSportif': 29, 'Nom': 'ROUSSEL', 'Prenom': 'Nadège', 'Sexe': 'F', 'Age': 22, 'IdSportifConseiller': 5, 'Sports': {'Jouer': ['Volley ball', 'Hand ball', 'Badmington', 'Ping pong'], 'Arbitrer': 'Ping pong', 'Entrainer': 'Ping pong'}}\n{'_id': '566eec5f662b388eba46421f', 'IdSportif': 30, 'Nom': 'SCHINK', 'Prenom': 'Nicolas', 'Sexe': 'M', 'Age': 24, 'IdSportifConseiller': 4, 'Sports': {'Jouer': ['Volley ball', 'Hand ball', 'Ping pong', 'Football'], 'Entrainer': 'Ping pong'}}\n{'_id': '566eec5f662b388eba464220', 'IdSportif': 31, 'Nom': 'STEMPUT', 'Prenom': 'Mathieu', 'Sexe': 'M', 'Age': 22, 'IdSportifConseiller': 2, 'Sports': {'Jouer': ['Volley ball', 'Hand ball', 'Badmington', 'Football'], 'Entrainer': 'Ping pong'}}\n{'_id': '566eec5f662b388eba464221', 'IdSportif': 32, 'Nom': 'VAN CAUTER', 'Prenom': 'Vincent', 'Sexe': 'M', 'Age': 23, 'IdSportifConseiller': 3, 'Sports': {'Jouer': ['Basket ball', 'Volley ball', 'Hand ball', 'Badmington', 'Ping pong', 'Football'], 'Arbitrer': 'Ping pong', 'Entrainer': 'Ping pong'}}\n{'_id': '566eec60662b388eba464222', 'IdSportif': 33, 'Nom': 'RAMPNOUX', 'Prenom': 'Jean françois', 'Sexe': 'M', 'Age': 23, 'IdSportifConseiller': 1, 'Sports': {'Jouer': ['Volley ball', 'Hand ball', 'Badmington', 'Football']}}\n{'_id': '566eec60662b388eba464223', 'IdSportif': 34, 'Nom': 'LHERPINIERE', 'Prenom': 'Olivier', 'Sexe': 'M', 'Age': 24, 'IdSportifConseiller': 3, 'Sports': {'Jouer': ['Volley ball', 'Hand ball', 'Ping pong', 'Football']}}\n{'_id': '566eec60662b388eba464224', 'IdSportif': 35, 'Nom': 'TANQUE', 'Prenom': 'Yann', 'Sexe': 'M', 'Age': 24, 'IdSportifConseiller': 4, 'Sports': {'Jouer': ['Basket ball', 'Volley ball', 'Hand ball', 'Ping pong', 'Football'], 'Arbitrer': 'Badmington', 'Entrainer': ['Badmington', 'Ping pong']}}\n{'_id': '566eec60662b388eba464225', 'IdSportif': 36, 'Nom': 'DJELOUDANE', 'Prenom': 'Zinedine', 'Sexe': 'M', 'Age': 28, 'IdSportifConseiller': 1, 'Sports': {'Jouer': ['Basket ball', 'Volley ball', 'Ping pong', 'Football'], 'Entrainer': 'Badmington'}}\n{'_id': '566eec60662b388eba464226', 'IdSportif': 37, 'Nom': 'LAZZARI', 'Prenom': 'Magali', 'Sexe': 'F', 'Age': 25, 'IdSportifConseiller': 44, 'Sports': {'Jouer': 'Volley ball'}}\n{'_id': '566eec60662b388eba464227', 'IdSportif': 38, 'Nom': 'VASSEMON', 'Prenom': 'Laurent', 'Sexe': 'M', 'Age': 24, 'IdSportifConseiller': 1, 'Sports': {'Jouer': ['Hand ball', 'Badmington', 'Football'], 'Entrainer': 'Ping pong'}}\n{'_id': '566eec60662b388eba464228', 'IdSportif': 39, 'Nom': 'MOREL', 'Prenom': 'Mathieu', 'Sexe': 'M', 'Age': 24, 'IdSportifConseiller': 8, 'Sports': {'Jouer': ['Hand ball', 'Football']}}\n{'_id': '566eec60662b388eba464229', 'IdSportif': 40, 'Nom': 'VALIN', 'Prenom': 'Yann', 'Sexe': 'M', 'Age': 23, 'IdSportifConseiller': 2, 'Sports': {'Jouer': ['Basket ball', 'Hand ball', 'Badmington', 'Ping pong', 'Football'], 'Entrainer': ['Badmington', 'Ping pong']}}\n{'_id': '566eec60662b388eba46422a', 'IdSportif': 41, 'Nom': 'DELOVINA', 'Prenom': 'Elina', 'Sexe': 'F', 'Age': 22, 'IdSportifConseiller': 7, 'Sports': {'Jouer': ['Tennis', 'Badmington']}}\n{'_id': '566eec60662b388eba46422b', 'IdSportif': 42, 'Nom': 'LEHOUX', 'Prenom': 'Bruno', 'Sexe': 'M', 'Age': 23, 'IdSportifConseiller': 5, 'Sports': {'Jouer': ['Tennis', 'Badmington', 'Football']}}\n{'_id': '566eec60662b388eba46422c', 'IdSportif': 43, 'Nom': 'MATHIEU', 'Prenom': 'Denise', 'Sexe': 'F', 'Age': 23, 'IdSportifConseiller': 6, 'Sports': {'Jouer': ['Hand ball', 'Tennis', 'Badmington']}}\n{'_id': '566eec60662b388eba46422d', 'IdSportif': 44, 'Nom': 'ADIBO', 'Prenom': 'Senamé', 'Sexe': 'M', 'Age': 28, 'IdSportifConseiller': 21, 'Sports': {'Jouer': ['Basket ball', 'Ping pong', 'Football']}}\n{'_id': '566eec60662b388eba46422e', 'IdSportif': 45, 'Nom': 'CHAVANT', 'Prenom': 'Christophe', 'Sexe': 'M', 'Age': 25, 'Sports': {'Jouer': ['Tennis', 'Football']}}\n{'_id': '566eec60662b388eba46422f', 'IdSportif': 46, 'Nom': 'DAUXIAN', 'Prenom': 'Cédric', 'Sexe': 'M', 'Age': 24, 'IdSportifConseiller': 4, 'Sports': {'Jouer': ['Tennis', 'Football']}}\n{'_id': '566eec60662b388eba464230', 'IdSportif': 47, 'Nom': 'GROEN', 'Prenom': 'Céline', 'Sexe': 'F', 'Age': 25, 'IdSportifConseiller': 2, 'Sports': {'Jouer': 'Tennis'}}\n{'_id': '566eec60662b388eba464231', 'IdSportif': 48, 'Nom': 'HEDDI', 'Prenom': 'Zohra', 'Sexe': 'F', 'Age': 23, 'IdSportifConseiller': 2, 'Sports': {'Jouer': ['Basket ball', 'Badmington', 'Ping pong'], 'Entrainer': 'Badmington'}}\n{'_id': '566eec60662b388eba464232', 'IdSportif': 49, 'Nom': 'JOUVE', 'Prenom': 'Sandra', 'Sexe': 'F', 'Age': 24, 'IdSportifConseiller': 5, 'Sports': {'Jouer': ['Basket ball', 'Ping pong']}}\n{'_id': '566eec60662b388eba464233', 'IdSportif': 50, 'Nom': 'KALOMBO', 'Prenom': 'Yannick', 'Sexe': 'M', 'Age': 22, 'IdSportifConseiller': 2, 'Sports': {'Jouer': ['Basket ball', 'Badmington', 'Ping pong', 'Football'], 'Entrainer': 'Badmington'}}\n{'_id': '566eec60662b388eba464234', 'IdSportif': 51, 'Nom': 'LOPEZ', 'Prenom': 'Thibaud', 'Sexe': 'M', 'Age': 24, 'IdSportifConseiller': 5, 'Sports': {'Jouer': ['Basket ball', 'Hand ball', 'Ping pong', 'Football']}}\n{'_id': '566eec60662b388eba464235', 'IdSportif': 52, 'Nom': 'DANDOIS', 'Prenom': 'Régis', 'Sexe': 'M', 'Age': 22, 'IdSportifConseiller': 5, 'Sports': {'Jouer': ['Basket ball', 'Badmington', 'Ping pong', 'Football']}}\n{'_id': '566eec60662b388eba464236', 'IdSportif': 53, 'Nom': 'DEMMER', 'Prenom': 'Thomas', 'Sexe': 'M', 'Age': 22, 'IdSportifConseiller': 1, 'Sports': {'Jouer': ['Basket ball', 'Badmington', 'Ping pong', 'Football']}}\n{'_id': '566eec60662b388eba464237', 'IdSportif': 54, 'Nom': 'ELKABBADJ', 'Prenom': 'Mohammed', 'Sexe': 'M', 'Age': 23, 'IdSportifConseiller': 2, 'Sports': {'Jouer': ['Badmington', 'Ping pong', 'Football']}}\n{'_id': '566eec60662b388eba464238', 'IdSportif': 55, 'Nom': 'FEROLDI', 'Prenom': 'Olivier', 'Sexe': 'M', 'Age': 23, 'IdSportifConseiller': 2, 'Sports': {'Jouer': ['Badmington', 'Ping pong', 'Football']}}\n{'_id': '566eec60662b388eba464239', 'IdSportif': 56, 'Nom': 'GUERRAOUI', 'Prenom': 'Zohra', 'Sexe': 'F', 'Age': 25, 'IdSportifConseiller': 1, 'Sports': {'Jouer': ['Basket ball', 'Ping pong'], 'Entrainer': 'Badmington'}}\n{'_id': '566eec60662b388eba46423a', 'IdSportif': 57, 'Nom': 'BOISSEAU', 'Prenom': 'Eric', 'Sexe': 'M', 'Age': 25, 'IdSportifConseiller': 1, 'Sports': {'Jouer': ['Tennis', 'Football'], 'Entrainer': ['Volley ball', 'Tennis']}}\n{'_id': '566eec60662b388eba46423b', 'IdSportif': 58, 'Nom': 'GUIGUI', 'Prenom': 'Vincent', 'Sexe': 'M', 'Age': 23, 'IdSportifConseiller': 4, 'Sports': {'Jouer': ['Basket ball', 'Badmington', 'Ping pong', 'Football'], 'Entrainer': ['Volley ball', 'Tennis']}}\n{'_id': '566eec60662b388eba46423c', 'IdSportif': 59, 'Nom': 'CLERICE', 'Prenom': 'Stéphanie', 'Sexe': 'F', 'Age': 23, 'Sports': {'Jouer': ['Basket ball', 'Badmington', 'Ping pong'], 'Arbitrer': 'Tennis', 'Entrainer': ['Volley ball', 'Tennis']}}\n{'_id': '566eec60662b388eba46423e', 'IdSportif': 61, 'Nom': 'LAZARRE', 'Prenom': 'Jean', 'Sexe': 'M', 'Age': 27, 'IdSportifConseiller': 7, 'Sports': {'Jouer': 'Football', 'Entrainer': ['Volley ball', 'Tennis']}}\n{'_id': '566eec60662b388eba464244', 'IdSportif': 67, 'Nom': 'VONTHRON', 'Prenom': 'Dominique', 'Sexe': 'F', 'Age': 26, 'IdSportifConseiller': 2, 'Sports': {'Jouer': ['Hand ball', 'Tennis']}}\n{'_id': '566eec60662b388eba464246', 'IdSportif': 69, 'Nom': 'MARIE', 'Prenom': 'Paule', 'Sexe': 'F', 'Age': 25, 'IdSportifConseiller': 7, 'Sports': {'Jouer': ['Basket ball', 'Hand ball', 'Ping pong']}}\n{'_id': '566eec60662b388eba464249', 'IdSportif': 72, 'Nom': 'MARTEL', 'Prenom': 'Bernard', 'Sexe': 'M', 'Age': 22, 'IdSportifConseiller': 8, 'Sports': {'Jouer': ['Hand ball', 'Tennis', 'Badmington', 'Football']}}\n{'_id': '566eec60662b388eba464255', 'IdSportif': 84, 'Nom': 'SALLAÏ', 'Prenom': 'Miloud', 'Sexe': 'M', 'Age': 28, 'IdSportifConseiller': 2, 'Sports': {'Jouer': ['Hand ball', 'Football']}}\n{'_id': '566eec60662b388eba46425d', 'IdSportif': 92, 'Nom': 'HERVIEU', 'Prenom': 'Jean-François', 'Sexe': 'M', 'Age': 22, 'IdSportifConseiller': 5, 'Sports': {'Jouer': ['Badmington', 'Football']}}\n{'_id': '566eec60662b388eba464273', 'IdSportif': 114, 'Nom': 'MICHEL', 'Prenom': 'Danielle', 'Sexe': 'F', 'Age': 22, 'IdSportifConseiller': 5, 'Sports': {'Jouer': ['Hand ball', 'Tennis', 'Badmington']}}\n{'_id': '566eec60662b388eba464289', 'IdSportif': 136, 'Nom': 'LABOULAIS', 'Prenom': 'Chloé', 'Sexe': 'F', 'Age': 26, 'IdSportifConseiller': 2, 'Sports': {'Jouer': 'Tennis'}}\n{'_id': '566eec60662b388eba46428a', 'IdSportif': 137, 'Nom': 'DUDOUIT', 'Prenom': 'Chloé', 'Sexe': 'F', 'Age': 26, 'IdSportifConseiller': 2, 'Sports': {'Jouer': 'Tennis'}}\n{'_id': '566eec60662b388eba46428b', 'IdSportif': 138, 'Nom': 'MADELAINE', 'Prenom': 'Chloé', 'Sexe': 'F', 'Age': 26, 'IdSportifConseiller': 1, 'Sports': {'Jouer': ['Hand ball', 'Tennis']}}\n{'_id': '566eec60662b388eba46428c', 'IdSportif': 139, 'Nom': 'BESNARD', 'Prenom': 'Chloé', 'Sexe': 'F', 'Age': 26, 'IdSportifConseiller': 4, 'Sports': {'Jouer': 'Tennis'}}\n{'_id': '566eec60662b388eba46428d', 'IdSportif': 140, 'Nom': 'BELZ', 'Prenom': 'Chloé', 'Sexe': 'F', 'Age': 26, 'IdSportifConseiller': 7, 'Sports': {'Jouer': 'Tennis'}}\n{'_id': '566eec60662b388eba46428e', 'IdSportif': 141, 'Nom': 'BONNET', 'Prenom': 'Chloé', 'Sexe': 'F', 'Age': 26, 'IdSportifConseiller': 5, 'Sports': {'Jouer': 'Tennis'}}\n{'_id': '566eec60662b388eba46428f', 'IdSportif': 142, 'Nom': 'CORNET', 'Prenom': 'Chloé', 'Sexe': 'F', 'Age': 26, 'IdSportifConseiller': 1, 'Sports': {'Jouer': 'Tennis'}}\n{'_id': '566eec60662b388eba464290', 'IdSportif': 143, 'Nom': 'BEUZELIN', 'Prenom': 'Chloé', 'Sexe': 'F', 'Age': 26, 'IdSportifConseiller': 5, 'Sports': {'Jouer': 'Tennis'}}\n{'_id': '566eec60662b388eba464291', 'IdSportif': 144, 'Nom': 'GRANDIDIER', 'Prenom': 'Chloé', 'Sexe': 'F', 'Age': 26, 'IdSportifConseiller': 2, 'Sports': {'Jouer': 'Tennis'}}\n{'_id': '566eec60662b388eba464292', 'IdSportif': 145, 'Nom': 'LENEVEU', 'Prenom': 'Marie', 'Sexe': 'F', 'Age': 25, 'IdSportifConseiller': 2}\n{'_id': '566eec60662b388eba464293', 'IdSportif': 146, 'Nom': 'DABON', 'Prenom': 'Rick', 'Sexe': 'M', 'Age': 25, 'IdSportifConseiller': 3}\n{'_id': '566eec60662b388eba464294', 'IdSportif': 147, 'Nom': 'CLERICE', 'Prenom': 'Alice', 'Sexe': 'F', 'Age': 25, 'IdSportifConseiller': 2}\n{'_id': '566eec60662b388eba464295', 'IdSportif': 148, 'Nom': 'COMES', 'Prenom': 'Marie', 'Sexe': 'F', 'Age': 27, 'IdSportifConseiller': 1}\n{'_id': '566eec60662b388eba464296', 'IdSportif': 149, 'Nom': 'BELZ', 'Prenom': 'Sylvianne', 'Sexe': 'F', 'Age': 27, 'IdSportifConseiller': 7, 'Sports': {'Jouer': 'Basket ball', 'Arbitrer': 'Basket ball', 'Entrainer': 'Basket ball'}}\n{'_id': '566eec60662b388eba464297', 'IdSportif': 150, 'Nom': 'BELZ', 'Prenom': 'Paul', 'Sexe': 'M', 'Age': 25, 'IdSportifConseiller': 2}\n{'_id': '566eec60662b388eba464298', 'IdSportif': 151, 'Nom': 'HENRY', 'Prenom': 'Maël', 'Sexe': 'M', 'Age': 25, 'IdSportifConseiller': 2, 'Sports': {'Jouer': ['Basket ball', 'Hand ball'], 'Arbitrer': ['Basket ball', 'Hand ball'], 'Entrainer': ['Basket ball', 'Hand ball']}}\n"
     ]
    }
   ],
   "source": [
    "# 7)\tQuels sont les sportifs (identifiant, nom et prénom) qui ont entre 20 et 30 ans ?\n",
    "for s in sportifs.find({\"Age\":{\"$gte\":20,\"$lt\":30}}):\n",
    "    print(s)"
   ]
  },
  {
   "cell_type": "code",
   "execution_count": 76,
   "metadata": {},
   "outputs": [
    {
     "output_type": "stream",
     "name": "stdout",
     "text": [
      "{'_id': '566eec5f662b388eba464208', 'Nom': 'RETALDI'}\n{'_id': '566eec5f662b388eba464214', 'Nom': 'TESTEMONT'}\n{'_id': '566eec5f662b388eba464215', 'Nom': 'TIENER'}\n{'_id': '566eec5f662b388eba46421a', 'Nom': 'MARTORA'}\n{'_id': '566eec5f662b388eba46421b', 'Nom': 'MICHEL'}\n{'_id': '566eec5f662b388eba46421c', 'Nom': 'NIELLEZ'}\n{'_id': '566eec5f662b388eba46421d', 'Nom': 'RABAHI'}\n{'_id': '566eec5f662b388eba46421e', 'Nom': 'ROUSSEL'}\n{'_id': '566eec5f662b388eba46421f', 'Nom': 'SCHINK'}\n{'_id': '566eec5f662b388eba464220', 'Nom': 'STEMPUT'}\n{'_id': '566eec5f662b388eba464221', 'Nom': 'VAN CAUTER'}\n{'_id': '566eec60662b388eba464222', 'Nom': 'RAMPNOUX'}\n{'_id': '566eec60662b388eba464223', 'Nom': 'LHERPINIERE'}\n{'_id': '566eec60662b388eba464224', 'Nom': 'TANQUE'}\n{'_id': '566eec60662b388eba464227', 'Nom': 'VASSEMON'}\n{'_id': '566eec60662b388eba464228', 'Nom': 'MOREL'}\n{'_id': '566eec60662b388eba464229', 'Nom': 'VALIN'}\n{'_id': '566eec60662b388eba46422c', 'Nom': 'MATHIEU'}\n{'_id': '566eec60662b388eba464234', 'Nom': 'LOPEZ'}\n{'_id': '566eec60662b388eba46423d', 'Nom': 'TIZEGHAT'}\n{'_id': '566eec60662b388eba464244', 'Nom': 'VONTHRON'}\n{'_id': '566eec60662b388eba464245', 'Nom': 'REGNAULD'}\n{'_id': '566eec60662b388eba464246', 'Nom': 'MARIE'}\n{'_id': '566eec60662b388eba464249', 'Nom': 'MARTEL'}\n{'_id': '566eec60662b388eba46424c', 'Nom': 'SARRAZIN'}\n{'_id': '566eec60662b388eba464254', 'Nom': 'LEROUX'}\n{'_id': '566eec60662b388eba464255', 'Nom': 'SALLAÏ'}\n{'_id': '566eec60662b388eba46425a', 'Nom': 'RIQUIER'}\n{'_id': '566eec60662b388eba46425f', 'Nom': 'LEROUX'}\n{'_id': '566eec60662b388eba464263', 'Nom': 'RICHARD'}\n{'_id': '566eec60662b388eba464265', 'Nom': 'LESOIF'}\n{'_id': '566eec60662b388eba464266', 'Nom': 'SWERTVAEGER'}\n{'_id': '566eec60662b388eba464269', 'Nom': 'SEHIER'}\n{'_id': '566eec60662b388eba46426a', 'Nom': 'STILO'}\n{'_id': '566eec60662b388eba46426e', 'Nom': 'SAUVAGE'}\n{'_id': '566eec60662b388eba46426f', 'Nom': 'ROULLAND'}\n{'_id': '566eec60662b388eba464270', 'Nom': 'LESIEUR'}\n{'_id': '566eec60662b388eba464271', 'Nom': 'LUYCKX'}\n{'_id': '566eec60662b388eba464273', 'Nom': 'MICHEL'}\n{'_id': '566eec60662b388eba46427c', 'Nom': 'LETHIMONNIER'}\n{'_id': '566eec60662b388eba46427d', 'Nom': 'SWERTVAEGER'}\n{'_id': '566eec60662b388eba464288', 'Nom': 'MANCEL'}\n{'_id': '566eec60662b388eba46428b', 'Nom': 'MADELAINE'}\n{'_id': '566eec60662b388eba464298', 'Nom': 'HENRY'}\n"
     ]
    }
   ],
   "source": [
    "# 8)\tQuels sont les sportifs (identifiant et nom) qui pratiquent du hand ball ?\n",
    "for s in sportifs.find({'Sports.Jouer' : \"Hand ball\"},{\"IdSportifs\" : 1, \"Nom\" : 1}):\n",
    "    print(s)"
   ]
  },
  {
   "cell_type": "code",
   "execution_count": 77,
   "metadata": {},
   "outputs": [
    {
     "output_type": "stream",
     "name": "stdout",
     "text": [
      "{'_id': '566eec60662b388eba464252', 'IdSportif': 81, 'Nom': 'DROULLON'}\n{'_id': '566eec60662b388eba464275', 'IdSportif': 116, 'Nom': 'BELUAU'}\n{'_id': '566eec60662b388eba464276', 'IdSportif': 117, 'Nom': 'FERREIRA'}\n{'_id': '566eec60662b388eba464284', 'IdSportif': 131, 'Nom': 'GALLOIS'}\n{'_id': '566eec60662b388eba464292', 'IdSportif': 145, 'Nom': 'LENEVEU'}\n{'_id': '566eec60662b388eba464293', 'IdSportif': 146, 'Nom': 'DABON'}\n{'_id': '566eec60662b388eba464294', 'IdSportif': 147, 'Nom': 'CLERICE'}\n{'_id': '566eec60662b388eba464295', 'IdSportif': 148, 'Nom': 'COMES'}\n{'_id': '566eec60662b388eba464297', 'IdSportif': 150, 'Nom': 'BELZ'}\n"
     ]
    }
   ],
   "source": [
    "# 11)\tQuels sportifs (identifiant et nom) ne pratiquent aucun sport ?\n",
    "for s in sportifs.find({\"Sports\":{\"$exists\":False}},{\"IdSportif\" : 1, \"Nom\": 1}):\n",
    "    print(s)"
   ]
  },
  {
   "cell_type": "code",
   "execution_count": 78,
   "metadata": {},
   "outputs": [
    {
     "output_type": "stream",
     "name": "stdout",
     "text": [
      "{'_id': '566eec69662b388eba46429e', 'IdGymnase': 6, 'NomGymnase': 'VERLAINE', 'Adresse': '14 bvd Serrault', 'Ville': 'STAINS', 'Surface': 400, 'Seances': [{'IdSportifEntraineur': 6, 'Jour': 'vendredi', 'Horaire': 19.0, 'Duree': 60, 'Libelle': 'Hockey'}, {'IdSportifEntraineur': 7, 'Jour': 'jeudi', 'Horaire': 17.0, 'Duree': 90, 'Libelle': 'Hockey'}]}\n{'_id': '566eec69662b388eba4642a1', 'IdGymnase': 9, 'NomGymnase': 'CAMUS', 'Adresse': '3 esplanade des quatrans', 'Ville': 'SARCELLES', 'Surface': 620, 'Seances': [{'IdSportifEntraineur': 6, 'Jour': 'samedi', 'Horaire': 19.0, 'Duree': 60, 'Libelle': 'Hockey'}]}\n{'_id': '566eec69662b388eba4642ac', 'IdGymnase': 20, 'NomGymnase': 'LUMIERES', 'Adresse': '78 rue Vendôme', 'Ville': 'SARCELLES', 'Surface': 400, 'Seances': [{'IdSportifEntraineur': 6, 'Jour': 'mercredi', 'Horaire': 19.0, 'Duree': 60, 'Libelle': 'Hockey'}]}\n"
     ]
    }
   ],
   "source": [
    "# 10)\tDans quels gymnases peut-on jouer au hockey le mercredi après 15H ?\n",
    "for s in gymnase.find({'Seances.0.Libelle' : \"Hockey\", \"Seances.0.Horaire\" : {\"$gt\" : 15.0}}):\n",
    "    print(s)"
   ]
  },
  {
   "cell_type": "code",
   "execution_count": 86,
   "metadata": {},
   "outputs": [
    {
     "output_type": "stream",
     "name": "stdout",
     "text": [
      "{'_id': '566eec69662b388eba46429c', 'IdGymnase': 4, 'NomGymnase': 'PAUL ELUARD', 'Adresse': 'Allée J.B. Lulli', 'Ville': 'SARCELLES', 'Surface': 500, 'Seances': [{'IdSportifEntraineur': 149, 'Jour': 'Vendredi', 'Horaire': 10.0, 'Duree': 30, 'Libelle': 'Basket ball'}, {'IdSportifEntraineur': 6, 'Jour': 'mercredi', 'Horaire': 19.0, 'Duree': 60, 'Libelle': 'Hockey'}]}\n{'_id': '566eec69662b388eba46429d', 'IdGymnase': 5, 'NomGymnase': 'BRASSENS', 'Adresse': '153 square Loliot', 'Ville': 'SARCELLES', 'Surface': 620, 'Seances': [{'IdSportifEntraineur': 57, 'Jour': 'lundi', 'Horaire': 16.3, 'Duree': 90, 'Libelle': 'Volley ball'}, {'IdSportifEntraineur': 6, 'Jour': 'jeudi', 'Horaire': 19.0, 'Duree': 60, 'Libelle': 'Hockey'}]}\n{'_id': '566eec69662b388eba4642a1', 'IdGymnase': 9, 'NomGymnase': 'CAMUS', 'Adresse': '3 esplanade des quatrans', 'Ville': 'SARCELLES', 'Surface': 620, 'Seances': [{'IdSportifEntraineur': 6, 'Jour': 'samedi', 'Horaire': 19.0, 'Duree': 60, 'Libelle': 'Hockey'}]}\n{'_id': '566eec69662b388eba4642a8', 'IdGymnase': 16, 'NomGymnase': 'SAMOURAI', 'Adresse': '4 Allée des pendules', 'Ville': 'SARCELLES', 'Surface': 600, 'Seances': [{'IdSportifEntraineur': 57, 'Jour': 'lundi', 'Horaire': 16.3, 'Duree': 90, 'Libelle': 'Volley ball'}, {'IdSportifEntraineur': 60, 'Jour': 'Lundi', 'Horaire': 17.0, 'Duree': 60, 'Libelle': 'Volley ball'}, {'IdSportifEntraineur': 60, 'Jour': 'Lundi', 'Horaire': 18.0, 'Duree': 60, 'Libelle': 'Volley ball'}, {'IdSportifEntraineur': 60, 'Jour': 'lundi', 'Horaire': 19.0, 'Duree': 60, 'Libelle': 'Volley ball'}, {'IdSportifEntraineur': 60, 'Jour': 'Lundi', 'Horaire': 20.0, 'Duree': 60, 'Libelle': 'Volley ball'}, {'IdSportifEntraineur': 6, 'Jour': 'mercredi', 'Horaire': 19.0, 'Duree': 60, 'Libelle': 'Hockey'}]}\n{'_id': '566eec69662b388eba4642b1', 'IdGymnase': 25, 'NomGymnase': 'DOLTO', 'Adresse': '3 square Plaisir', 'Ville': 'VILLETANEUSE', 'Surface': 620, 'Seances': [{'IdSportifEntraineur': 149, 'Jour': 'Dimanche', 'Horaire': 18.0, 'Duree': 60, 'Libelle': 'Basket ball'}]}\n{'_id': '566eec69662b388eba4642b2', 'IdGymnase': 26, 'NomGymnase': 'MERMOZ', 'Adresse': '41 rue des ponts', 'Ville': 'VILLETANEUSE', 'Surface': 600}\n"
     ]
    }
   ],
   "source": [
    "# 9)\tQuels sont les gymnases de “Villetaneuse” ou de “Sarcelles” qui ont une surface de plus de 400 m2 ?\n",
    "for g in gymnase.find({\"$or\":[{\"Ville\": \"VILLETANEUSE\"}, {\"Ville\": \"SARCELLES\"}], \"Surface\":{\"$gt\":400}}):\n",
    "    print(g)"
   ]
  },
  {
   "cell_type": "code",
   "execution_count": 79,
   "metadata": {},
   "outputs": [
    {
     "output_type": "stream",
     "name": "stdout",
     "text": [
      "{'_id': '566eec69662b388eba464299', 'IdGymnase': 1, 'NomGymnase': 'PAUL ELUARD', 'Adresse': '2 rue des pépines', 'Ville': 'STAINS', 'Surface': 200, 'Seances': [{'IdSportifEntraineur': 149, 'Jour': 'Samedi', 'Horaire': 9.0, 'Duree': 60, 'Libelle': 'Basket ball'}, {'IdSportifEntraineur': 1, 'Jour': 'Lundi', 'Horaire': 9.0, 'Duree': 60, 'Libelle': 'Hand ball'}, {'IdSportifEntraineur': 1, 'Jour': 'Lundi', 'Horaire': 10.0, 'Duree': 60, 'Libelle': 'Hand ball'}, {'IdSportifEntraineur': 1, 'Jour': 'Lundi', 'Horaire': 11.3, 'Duree': 60, 'Libelle': 'Hand ball'}, {'IdSportifEntraineur': 1, 'Jour': 'Lundi', 'Horaire': 14.0, 'Duree': 90, 'Libelle': 'Hand ball'}, {'IdSportifEntraineur': 1, 'Jour': 'lundi', 'Horaire': 17.3, 'Duree': 120, 'Libelle': 'Hand ball'}, {'IdSportifEntraineur': 1, 'Jour': 'Lundi', 'Horaire': 19.3, 'Duree': 120, 'Libelle': 'Hand ball'}, {'IdSportifEntraineur': 2, 'Jour': 'Dimanche', 'Horaire': 17.3, 'Duree': 120, 'Libelle': 'Hand ball'}, {'IdSportifEntraineur': 2, 'Jour': 'Dimanche', 'Horaire': 19.3, 'Duree': 120, 'Libelle': 'Hand ball'}, {'IdSportifEntraineur': 2, 'Jour': 'mardi', 'Horaire': 17.3, 'Duree': 120, 'Libelle': 'Hand ball'}, {'IdSportifEntraineur': 2, 'Jour': 'mercredi', 'Horaire': 17.3, 'Duree': 120, 'Libelle': 'Hand ball'}, {'IdSportifEntraineur': 2, 'Jour': 'Samedi', 'Horaire': 15.3, 'Duree': 60, 'Libelle': 'Hand ball'}, {'IdSportifEntraineur': 2, 'Jour': 'Samedi', 'Horaire': 16.3, 'Duree': 60, 'Libelle': 'Hand ball'}, {'IdSportifEntraineur': 2, 'Jour': 'Samedi', 'Horaire': 17.3, 'Duree': 120, 'Libelle': 'Hand ball'}, {'IdSportifEntraineur': 3, 'Jour': 'jeudi', 'Horaire': 20.0, 'Duree': 30, 'Libelle': 'Hand ball'}, {'IdSportifEntraineur': 3, 'Jour': 'lundi', 'Horaire': 14.0, 'Duree': 60, 'Libelle': 'Hand ball'}, {'IdSportifEntraineur': 3, 'Jour': 'lundi', 'Horaire': 18.0, 'Duree': 30, 'Libelle': 'Hand ball'}, {'IdSportifEntraineur': 3, 'Jour': 'lundi', 'Horaire': 19.0, 'Duree': 30, 'Libelle': 'Hand ball'}, {'IdSportifEntraineur': 3, 'Jour': 'lundi', 'Horaire': 20.0, 'Duree': 30, 'Libelle': 'Hand ball'}, {'IdSportifEntraineur': 7, 'Jour': 'mercredi', 'Horaire': 17.0, 'Duree': 90, 'Libelle': 'Hockey'}]}\n{'_id': '566eec69662b388eba46429b', 'IdGymnase': 3, 'NomGymnase': 'SAINT EXUPERY', 'Adresse': '47 bvd des brumes', 'Ville': 'PIERREFITTE', 'Surface': 400, 'Seances': [{'IdSportifEntraineur': 149, 'Jour': 'Mercredi', 'Horaire': 11.0, 'Duree': 30, 'Libelle': 'Basket ball'}, {'IdSportifEntraineur': 57, 'Jour': 'lundi', 'Horaire': 16.3, 'Duree': 90, 'Libelle': 'Volley ball'}, {'IdSportifEntraineur': 60, 'Jour': 'jeudi', 'Horaire': 19.0, 'Duree': 60, 'Libelle': 'Volley ball'}]}\n{'_id': '566eec69662b388eba46429c', 'IdGymnase': 4, 'NomGymnase': 'PAUL ELUARD', 'Adresse': 'Allée J.B. Lulli', 'Ville': 'SARCELLES', 'Surface': 500, 'Seances': [{'IdSportifEntraineur': 149, 'Jour': 'Vendredi', 'Horaire': 10.0, 'Duree': 30, 'Libelle': 'Basket ball'}, {'IdSportifEntraineur': 6, 'Jour': 'mercredi', 'Horaire': 19.0, 'Duree': 60, 'Libelle': 'Hockey'}]}\n{'_id': '566eec69662b388eba46429d', 'IdGymnase': 5, 'NomGymnase': 'BRASSENS', 'Adresse': '153 square Loliot', 'Ville': 'SARCELLES', 'Surface': 620, 'Seances': [{'IdSportifEntraineur': 57, 'Jour': 'lundi', 'Horaire': 16.3, 'Duree': 90, 'Libelle': 'Volley ball'}, {'IdSportifEntraineur': 6, 'Jour': 'jeudi', 'Horaire': 19.0, 'Duree': 60, 'Libelle': 'Hockey'}]}\n{'_id': '566eec69662b388eba46429e', 'IdGymnase': 6, 'NomGymnase': 'VERLAINE', 'Adresse': '14 bvd Serrault', 'Ville': 'STAINS', 'Surface': 400, 'Seances': [{'IdSportifEntraineur': 6, 'Jour': 'vendredi', 'Horaire': 19.0, 'Duree': 60, 'Libelle': 'Hockey'}, {'IdSportifEntraineur': 7, 'Jour': 'jeudi', 'Horaire': 17.0, 'Duree': 90, 'Libelle': 'Hockey'}]}\n{'_id': '566eec69662b388eba46429f', 'IdGymnase': 7, 'NomGymnase': 'JULES FERRY', 'Adresse': '45 rue de la gare', 'Ville': 'PIERREFITTE', 'Surface': 360}\n{'_id': '566eec69662b388eba4642a1', 'IdGymnase': 9, 'NomGymnase': 'CAMUS', 'Adresse': '3 esplanade des quatrans', 'Ville': 'SARCELLES', 'Surface': 620, 'Seances': [{'IdSportifEntraineur': 6, 'Jour': 'samedi', 'Horaire': 19.0, 'Duree': 60, 'Libelle': 'Hockey'}]}\n{'_id': '566eec69662b388eba4642a3', 'IdGymnase': 11, 'NomGymnase': 'LAMARTINE', 'Adresse': '7 rue de la souris verte', 'Ville': 'PIERREFITTE', 'Surface': 300}\n{'_id': '566eec69662b388eba4642a7', 'IdGymnase': 15, 'NomGymnase': 'BREL', 'Adresse': '4 rue de la miséricorde', 'Ville': 'PIERREFITTE', 'Surface': 400, 'Seances': [{'IdSportifEntraineur': 57, 'Jour': 'lundi', 'Horaire': 16.3, 'Duree': 90, 'Libelle': 'Volley ball'}]}\n{'_id': '566eec69662b388eba4642a8', 'IdGymnase': 16, 'NomGymnase': 'SAMOURAI', 'Adresse': '4 Allée des pendules', 'Ville': 'SARCELLES', 'Surface': 600, 'Seances': [{'IdSportifEntraineur': 57, 'Jour': 'lundi', 'Horaire': 16.3, 'Duree': 90, 'Libelle': 'Volley ball'}, {'IdSportifEntraineur': 60, 'Jour': 'Lundi', 'Horaire': 17.0, 'Duree': 60, 'Libelle': 'Volley ball'}, {'IdSportifEntraineur': 60, 'Jour': 'Lundi', 'Horaire': 18.0, 'Duree': 60, 'Libelle': 'Volley ball'}, {'IdSportifEntraineur': 60, 'Jour': 'lundi', 'Horaire': 19.0, 'Duree': 60, 'Libelle': 'Volley ball'}, {'IdSportifEntraineur': 60, 'Jour': 'Lundi', 'Horaire': 20.0, 'Duree': 60, 'Libelle': 'Volley ball'}, {'IdSportifEntraineur': 6, 'Jour': 'mercredi', 'Horaire': 19.0, 'Duree': 60, 'Libelle': 'Hockey'}]}\n{'_id': '566eec69662b388eba4642aa', 'IdGymnase': 18, 'NomGymnase': 'PABLO NERUDA', 'Adresse': '6 rue saint Jean', 'Ville': 'PIERREFITTE', 'Surface': 450, 'Seances': [{'IdSportifEntraineur': 57, 'Jour': 'lundi', 'Horaire': 16.3, 'Duree': 90, 'Libelle': 'Volley ball'}, {'IdSportifEntraineur': 60, 'Jour': 'mardi', 'Horaire': 19.0, 'Duree': 60, 'Libelle': 'Volley ball'}, {'IdSportifEntraineur': 7, 'Jour': 'mercredi', 'Horaire': 14.0, 'Duree': 120, 'Libelle': 'Hockey'}, {'IdSportifEntraineur': 7, 'Jour': 'mercredi', 'Horaire': 16.0, 'Duree': 90, 'Libelle': 'Hockey'}]}\n{'_id': '566eec69662b388eba4642ac', 'IdGymnase': 20, 'NomGymnase': 'LUMIERES', 'Adresse': '78 rue Vendôme', 'Ville': 'SARCELLES', 'Surface': 400, 'Seances': [{'IdSportifEntraineur': 6, 'Jour': 'mercredi', 'Horaire': 19.0, 'Duree': 60, 'Libelle': 'Hockey'}]}\n{'_id': '566eec69662b388eba4642ad', 'IdGymnase': 21, 'NomGymnase': 'SIMON', 'Adresse': '8 bvd général de Gaulle', 'Ville': 'STAINS', 'Surface': 400, 'Seances': [{'IdSportifEntraineur': 57, 'Jour': 'lundi', 'Horaire': 16.3, 'Duree': 30, 'Libelle': 'Volley ball'}, {'IdSportifEntraineur': 60, 'Jour': 'mardi', 'Horaire': 19.0, 'Duree': 60, 'Libelle': 'Volley ball'}, {'IdSportifEntraineur': 7, 'Jour': 'mercredi', 'Horaire': 17.0, 'Duree': 30, 'Libelle': 'Hockey'}]}\n{'_id': '566eec69662b388eba4642ae', 'IdGymnase': 22, 'NomGymnase': 'BARBARA', 'Adresse': '45  rue du bossu', 'Ville': 'SAINT DENIS', 'Surface': 500, 'Seances': [{'IdSportifEntraineur': 57, 'Jour': 'mardi', 'Horaire': 10.0, 'Duree': 30, 'Libelle': 'Volley ball'}]}\n{'_id': '566eec69662b388eba4642af', 'IdGymnase': 23, 'NomGymnase': 'ARAGON', 'Adresse': '10 Bvd Lenoir', 'Ville': 'SAINT DENIS', 'Surface': 520}\n{'_id': '566eec69662b388eba4642b0', 'IdGymnase': 24, 'NomGymnase': 'BELFEGOR', 'Adresse': 'Place de Gaulle', 'Ville': 'SAINT DENIS', 'Surface': 450, 'Seances': [{'IdSportifEntraineur': 149, 'Jour': 'Jeudi', 'Horaire': 9.0, 'Duree': 90, 'Libelle': 'Basket ball'}, {'IdSportifEntraineur': 57, 'Jour': 'mercredi', 'Horaire': 10.0, 'Duree': 90, 'Libelle': 'Volley ball'}]}\n{'_id': '566eec69662b388eba4642b1', 'IdGymnase': 25, 'NomGymnase': 'DOLTO', 'Adresse': '3 square Plaisir', 'Ville': 'VILLETANEUSE', 'Surface': 620, 'Seances': [{'IdSportifEntraineur': 149, 'Jour': 'Dimanche', 'Horaire': 18.0, 'Duree': 60, 'Libelle': 'Basket ball'}]}\n{'_id': '566eec69662b388eba4642b2', 'IdGymnase': 26, 'NomGymnase': 'MERMOZ', 'Adresse': '41 rue des ponts', 'Ville': 'VILLETANEUSE', 'Surface': 600}\n{'_id': '566eec69662b388eba4642b3', 'IdGymnase': 27, 'NomGymnase': 'PASCAL', 'Adresse': '20 rue de la pirogue', 'Ville': 'VILLETANEUSE', 'Surface': 350, 'Seances': [{'IdSportifEntraineur': 57, 'Jour': 'jeudi', 'Horaire': 10.0, 'Duree': 90, 'Libelle': 'Volley ball'}, {'IdSportifEntraineur': 7, 'Jour': 'mercredi', 'Horaire': 14.0, 'Duree': 120, 'Libelle': 'Hockey'}, {'IdSportifEntraineur': 7, 'Jour': 'mercredi', 'Horaire': 17.0, 'Duree': 90, 'Libelle': 'Hockey'}]}\n"
     ]
    }
   ],
   "source": [
    "# 12)\tQuels gymnases n’ont pas de séances le dimanche ?\n",
    "for s in gymnase.find({'Seances.Jour' : { \"$ne\" : \"dimanche\"} }):\n",
    "    print(s)    "
   ]
  },
  {
   "cell_type": "code",
   "execution_count": 80,
   "metadata": {},
   "outputs": [
    {
     "output_type": "stream",
     "name": "stdout",
     "text": [
      "{'_id': '566eec69662b388eba46429a', 'IdGymnase': 2, 'NomGymnase': 'ARAGON', 'Adresse': 'Place du Chartres', 'Ville': 'MONTMORENCY', 'Surface': 450, 'Seances': [{'IdSportifEntraineur': 57, 'Jour': 'dimanche', 'Horaire': 17.0, 'Duree': 60, 'Libelle': 'Volley ball'}]}\n{'_id': '566eec69662b388eba46429b', 'IdGymnase': 3, 'NomGymnase': 'SAINT EXUPERY', 'Adresse': '47 bvd des brumes', 'Ville': 'PIERREFITTE', 'Surface': 400, 'Seances': [{'IdSportifEntraineur': 149, 'Jour': 'Mercredi', 'Horaire': 11.0, 'Duree': 30, 'Libelle': 'Basket ball'}, {'IdSportifEntraineur': 57, 'Jour': 'lundi', 'Horaire': 16.3, 'Duree': 90, 'Libelle': 'Volley ball'}, {'IdSportifEntraineur': 60, 'Jour': 'jeudi', 'Horaire': 19.0, 'Duree': 60, 'Libelle': 'Volley ball'}]}\n{'_id': '566eec69662b388eba4642a4', 'IdGymnase': 12, 'NomGymnase': 'MOZART', 'Adresse': '6 Allée Rosana', 'Ville': 'MONTMORENCY', 'Surface': 480, 'Seances': [{'IdSportifEntraineur': 57, 'Jour': 'dimanche', 'Horaire': 17.0, 'Duree': 60, 'Libelle': 'Volley ball'}]}\n{'_id': '566eec69662b388eba4642a6', 'IdGymnase': 14, 'NomGymnase': 'CHOPIN', 'Adresse': '23 rue Carafelli', 'Ville': 'MONTMORENCY', 'Surface': 500, 'Seances': [{'IdSportifEntraineur': 149, 'Jour': 'Mardi', 'Horaire': 10.0, 'Duree': 60, 'Libelle': 'Basket ball'}, {'IdSportifEntraineur': 57, 'Jour': 'dimanche', 'Horaire': 17.0, 'Duree': 60, 'Libelle': 'Volley ball'}]}\n{'_id': '566eec69662b388eba4642a7', 'IdGymnase': 15, 'NomGymnase': 'BREL', 'Adresse': '4 rue de la miséricorde', 'Ville': 'PIERREFITTE', 'Surface': 400, 'Seances': [{'IdSportifEntraineur': 57, 'Jour': 'lundi', 'Horaire': 16.3, 'Duree': 90, 'Libelle': 'Volley ball'}]}\n{'_id': '566eec69662b388eba4642ab', 'IdGymnase': 19, 'NomGymnase': 'COCTEAU', 'Adresse': '45 bis rue du moulin rouge', 'Ville': 'MONTMORENCY', 'Surface': 500, 'Seances': [{'IdSportifEntraineur': 57, 'Jour': 'dimanche', 'Horaire': 17.0, 'Duree': 60, 'Libelle': 'Volley ball'}]}\n{'_id': '566eec69662b388eba4642ae', 'IdGymnase': 22, 'NomGymnase': 'BARBARA', 'Adresse': '45  rue du bossu', 'Ville': 'SAINT DENIS', 'Surface': 500, 'Seances': [{'IdSportifEntraineur': 57, 'Jour': 'mardi', 'Horaire': 10.0, 'Duree': 30, 'Libelle': 'Volley ball'}]}\n{'_id': '566eec69662b388eba4642b0', 'IdGymnase': 24, 'NomGymnase': 'BELFEGOR', 'Adresse': 'Place de Gaulle', 'Ville': 'SAINT DENIS', 'Surface': 450, 'Seances': [{'IdSportifEntraineur': 149, 'Jour': 'Jeudi', 'Horaire': 9.0, 'Duree': 90, 'Libelle': 'Basket ball'}, {'IdSportifEntraineur': 57, 'Jour': 'mercredi', 'Horaire': 10.0, 'Duree': 90, 'Libelle': 'Volley ball'}]}\n{'_id': '566eec69662b388eba4642b1', 'IdGymnase': 25, 'NomGymnase': 'DOLTO', 'Adresse': '3 square Plaisir', 'Ville': 'VILLETANEUSE', 'Surface': 620, 'Seances': [{'IdSportifEntraineur': 149, 'Jour': 'Dimanche', 'Horaire': 18.0, 'Duree': 60, 'Libelle': 'Basket ball'}]}\n"
     ]
    }
   ],
   "source": [
    "# 13)\tQuels gymnases ne proposent que des séances de basket ball ou de volley ball ?\n",
    "request = gymnase.find({ 'Seances.Libelle' : {\n",
    "    '$in' : ['Volley ball', 'Basket ball'], \n",
    "    '$nin' : ['Hockey', 'Badminton', 'Football', 'Tennis', 'Hand ball']\n",
    "}})\n",
    "\n",
    "for element in request:\n",
    "    print(element)"
   ]
  },
  {
   "cell_type": "code",
   "execution_count": 81,
   "metadata": {},
   "outputs": [
    {
     "output_type": "stream",
     "name": "stdout",
     "text": [
      "{'_id': '566eec5f662b388eba464203', 'IdSportif': 1, 'Nom': 'BOUTAHAR', 'Prenom': 'Abderahim', 'Sexe': 'm', 'Age': 30, 'Sports': {'Jouer': ['Volley ball', 'Tennis', 'Football'], 'Arbitrer': ['Basket ball', 'Volley ball', 'Hockey'], 'Entrainer': ['Basket ball', 'Volley ball', 'Hand ball', 'Hockey', 'Badmington']}}\n{'_id': '566eec5f662b388eba464204', 'IdSportif': 2, 'Nom': 'KERVADEC', 'Prenom': 'Yann', 'Sexe': 'M', 'Age': 28, 'IdSportifConseiller': 1, 'Sports': {'Jouer': ['Basket ball', 'Volley ball', 'Ping pong', 'Football'], 'Arbitrer': ['Hockey', 'Football'], 'Entrainer': ['Basket ball', 'Volley ball', 'Hand ball', 'Tennis', 'Hockey', 'Badmington', 'Ping pong', 'Boxe']}}\n{'_id': '566eec5f662b388eba464205', 'IdSportif': 3, 'Nom': 'HUE', 'Prenom': 'Pascale', 'Sexe': 'F', 'Age': 25, 'IdSportifConseiller': 1, 'Sports': {'Jouer': ['Volley ball', 'Ping pong'], 'Arbitrer': ['Volley ball', 'Badmington', 'Ping pong'], 'Entrainer': ['Basket ball', 'Volley ball', 'Hand ball', 'Badmington']}}\n{'_id': '566eec5f662b388eba464206', 'IdSportif': 4, 'Nom': 'DORLEANS', 'Prenom': 'Jean-michel', 'Sexe': 'M', 'Age': 32, 'IdSportifConseiller': 1, 'Sports': {'Jouer': ['Volley ball', 'Football'], 'Arbitrer': ['Basket ball', 'Volley ball', 'Ping pong', 'Boxe'], 'Entrainer': ['Basket ball', 'Ping pong', 'Boxe']}}\n{'_id': '566eec5f662b388eba464208', 'IdSportif': 6, 'Nom': 'RETALDI', 'Prenom': 'Sophie', 'Sexe': 'F', 'Age': 30, 'IdSportifConseiller': 3, 'Sports': {'Jouer': ['Basket ball', 'Volley ball', 'Hand ball', 'Ping pong'], 'Arbitrer': ['Basket ball', 'Hockey', 'Ping pong'], 'Entrainer': ['Hockey', 'Ping pong', 'Boxe']}}\n{'_id': '566eec5f662b388eba464209', 'IdSportif': 7, 'Nom': 'GOMEZ', 'Prenom': 'Diego', 'Sexe': 'M', 'Age': 25, 'IdSportifConseiller': 2, 'Sports': {'Jouer': ['Volley ball', 'Tennis', 'Football'], 'Arbitrer': ['Volley ball', 'Hand ball', 'Hockey'], 'Entrainer': ['Volley ball', 'Hand ball', 'Hockey', 'Badmington']}}\n{'_id': '566eec5f662b388eba46421e', 'IdSportif': 29, 'Nom': 'ROUSSEL', 'Prenom': 'Nadège', 'Sexe': 'F', 'Age': 22, 'IdSportifConseiller': 5, 'Sports': {'Jouer': ['Volley ball', 'Hand ball', 'Badmington', 'Ping pong'], 'Arbitrer': 'Ping pong', 'Entrainer': 'Ping pong'}}\n{'_id': '566eec5f662b388eba46421f', 'IdSportif': 30, 'Nom': 'SCHINK', 'Prenom': 'Nicolas', 'Sexe': 'M', 'Age': 24, 'IdSportifConseiller': 4, 'Sports': {'Jouer': ['Volley ball', 'Hand ball', 'Ping pong', 'Football'], 'Entrainer': 'Ping pong'}}\n{'_id': '566eec5f662b388eba464220', 'IdSportif': 31, 'Nom': 'STEMPUT', 'Prenom': 'Mathieu', 'Sexe': 'M', 'Age': 22, 'IdSportifConseiller': 2, 'Sports': {'Jouer': ['Volley ball', 'Hand ball', 'Badmington', 'Football'], 'Entrainer': 'Ping pong'}}\n{'_id': '566eec5f662b388eba464221', 'IdSportif': 32, 'Nom': 'VAN CAUTER', 'Prenom': 'Vincent', 'Sexe': 'M', 'Age': 23, 'IdSportifConseiller': 3, 'Sports': {'Jouer': ['Basket ball', 'Volley ball', 'Hand ball', 'Badmington', 'Ping pong', 'Football'], 'Arbitrer': 'Ping pong', 'Entrainer': 'Ping pong'}}\n{'_id': '566eec60662b388eba464224', 'IdSportif': 35, 'Nom': 'TANQUE', 'Prenom': 'Yann', 'Sexe': 'M', 'Age': 24, 'IdSportifConseiller': 4, 'Sports': {'Jouer': ['Basket ball', 'Volley ball', 'Hand ball', 'Ping pong', 'Football'], 'Arbitrer': 'Badmington', 'Entrainer': ['Badmington', 'Ping pong']}}\n{'_id': '566eec60662b388eba464225', 'IdSportif': 36, 'Nom': 'DJELOUDANE', 'Prenom': 'Zinedine', 'Sexe': 'M', 'Age': 28, 'IdSportifConseiller': 1, 'Sports': {'Jouer': ['Basket ball', 'Volley ball', 'Ping pong', 'Football'], 'Entrainer': 'Badmington'}}\n{'_id': '566eec60662b388eba464227', 'IdSportif': 38, 'Nom': 'VASSEMON', 'Prenom': 'Laurent', 'Sexe': 'M', 'Age': 24, 'IdSportifConseiller': 1, 'Sports': {'Jouer': ['Hand ball', 'Badmington', 'Football'], 'Entrainer': 'Ping pong'}}\n{'_id': '566eec60662b388eba464229', 'IdSportif': 40, 'Nom': 'VALIN', 'Prenom': 'Yann', 'Sexe': 'M', 'Age': 23, 'IdSportifConseiller': 2, 'Sports': {'Jouer': ['Basket ball', 'Hand ball', 'Badmington', 'Ping pong', 'Football'], 'Entrainer': ['Badmington', 'Ping pong']}}\n{'_id': '566eec60662b388eba464231', 'IdSportif': 48, 'Nom': 'HEDDI', 'Prenom': 'Zohra', 'Sexe': 'F', 'Age': 23, 'IdSportifConseiller': 2, 'Sports': {'Jouer': ['Basket ball', 'Badmington', 'Ping pong'], 'Entrainer': 'Badmington'}}\n{'_id': '566eec60662b388eba464233', 'IdSportif': 50, 'Nom': 'KALOMBO', 'Prenom': 'Yannick', 'Sexe': 'M', 'Age': 22, 'IdSportifConseiller': 2, 'Sports': {'Jouer': ['Basket ball', 'Badmington', 'Ping pong', 'Football'], 'Entrainer': 'Badmington'}}\n{'_id': '566eec60662b388eba464239', 'IdSportif': 56, 'Nom': 'GUERRAOUI', 'Prenom': 'Zohra', 'Sexe': 'F', 'Age': 25, 'IdSportifConseiller': 1, 'Sports': {'Jouer': ['Basket ball', 'Ping pong'], 'Entrainer': 'Badmington'}}\n{'_id': '566eec60662b388eba46423a', 'IdSportif': 57, 'Nom': 'BOISSEAU', 'Prenom': 'Eric', 'Sexe': 'M', 'Age': 25, 'IdSportifConseiller': 1, 'Sports': {'Jouer': ['Tennis', 'Football'], 'Entrainer': ['Volley ball', 'Tennis']}}\n{'_id': '566eec60662b388eba46423b', 'IdSportif': 58, 'Nom': 'GUIGUI', 'Prenom': 'Vincent', 'Sexe': 'M', 'Age': 23, 'IdSportifConseiller': 4, 'Sports': {'Jouer': ['Basket ball', 'Badmington', 'Ping pong', 'Football'], 'Entrainer': ['Volley ball', 'Tennis']}}\n{'_id': '566eec60662b388eba46423c', 'IdSportif': 59, 'Nom': 'CLERICE', 'Prenom': 'Stéphanie', 'Sexe': 'F', 'Age': 23, 'Sports': {'Jouer': ['Basket ball', 'Badmington', 'Ping pong'], 'Arbitrer': 'Tennis', 'Entrainer': ['Volley ball', 'Tennis']}}\n{'_id': '566eec60662b388eba46423d', 'IdSportif': 60, 'Nom': 'TIZEGHAT', 'Prenom': 'Benamar', 'Sexe': 'M', 'Age': 32, 'IdSportifConseiller': 3, 'Sports': {'Jouer': ['Hand ball', 'Tennis', 'Football'], 'Arbitrer': 'Volley ball', 'Entrainer': ['Volley ball', 'Tennis', 'Ping pong']}}\n{'_id': '566eec60662b388eba46423e', 'IdSportif': 61, 'Nom': 'LAZARRE', 'Prenom': 'Jean', 'Sexe': 'M', 'Age': 27, 'IdSportifConseiller': 7, 'Sports': {'Jouer': 'Football', 'Entrainer': ['Volley ball', 'Tennis']}}\n{'_id': '566eec60662b388eba464296', 'IdSportif': 149, 'Nom': 'BELZ', 'Prenom': 'Sylvianne', 'Sexe': 'F', 'Age': 27, 'IdSportifConseiller': 7, 'Sports': {'Jouer': 'Basket ball', 'Arbitrer': 'Basket ball', 'Entrainer': 'Basket ball'}}\n{'_id': '566eec60662b388eba464298', 'IdSportif': 151, 'Nom': 'HENRY', 'Prenom': 'Maël', 'Sexe': 'M', 'Age': 25, 'IdSportifConseiller': 2, 'Sports': {'Jouer': ['Basket ball', 'Hand ball'], 'Arbitrer': ['Basket ball', 'Hand ball'], 'Entrainer': ['Basket ball', 'Hand ball']}}\n"
     ]
    }
   ],
   "source": [
    "# 14)\tQuels sont les entraîneurs qui sont aussi joueurs ?\n",
    "for s in sportifs.find({\"Sports.Jouer\":{\"$exists\":True}, \"Sports.Entrainer\":{\"$exists\":True}}):\n",
    "    print(s)"
   ]
  },
  {
   "cell_type": "code",
   "execution_count": 90,
   "metadata": {},
   "outputs": [
    {
     "output_type": "stream",
     "name": "stdout",
     "text": [
      "1\n2\n3\n4\n5\n6\n7\n8\n9\n14\n21\n44\n98\n"
     ]
    }
   ],
   "source": [
    "# 15)\tQuels sont les sportifs qui sont des conseillers ?\n",
    "for s in sportifs.distinct(\"IdSportifConseiller\"):\n",
    "    print(s)"
   ]
  },
  {
   "cell_type": "code",
   "execution_count": 82,
   "metadata": {
    "tags": []
   },
   "outputs": [
    {
     "output_type": "stream",
     "name": "stdout",
     "text": [
      "{'_id': '566eec5f662b388eba464203', 'IdSportif': 1, 'Nom': 'BOUTAHAR', 'Prenom': 'Abderahim', 'Sexe': 'm', 'Age': 30, 'Sports': {'Jouer': ['Volley ball', 'Tennis', 'Football'], 'Arbitrer': ['Basket ball', 'Volley ball', 'Hockey'], 'Entrainer': ['Basket ball', 'Volley ball', 'Hand ball', 'Hockey', 'Badmington']}}\n"
     ]
    }
   ],
   "source": [
    "# 16)\tPour le sportif “Kervadec” quel est le nom de son conseiller ?\n",
    "s = sportifs.find_one({\"Nom\" : \"KERVADEC\"})\n",
    "print(sportifs.find_one({\"IdSportif\" : s['IdSportifConseiller']}))"
   ]
  },
  {
   "cell_type": "code",
   "execution_count": 83,
   "metadata": {},
   "outputs": [
    {
     "output_type": "stream",
     "name": "stdout",
     "text": [
      "{'_id': '566eec5f662b388eba464203', 'IdSportif': 1, 'Nom': 'BOUTAHAR', 'Prenom': 'Abderahim', 'Sexe': 'm', 'Age': 30, 'Sports': {'Jouer': ['Volley ball', 'Tennis', 'Football'], 'Arbitrer': ['Basket ball', 'Volley ball', 'Hockey'], 'Entrainer': ['Basket ball', 'Volley ball', 'Hand ball', 'Hockey', 'Badmington']}}\n{'_id': '566eec5f662b388eba464204', 'IdSportif': 2, 'Nom': 'KERVADEC', 'Prenom': 'Yann', 'Sexe': 'M', 'Age': 28, 'IdSportifConseiller': 1, 'Sports': {'Jouer': ['Basket ball', 'Volley ball', 'Ping pong', 'Football'], 'Arbitrer': ['Hockey', 'Football'], 'Entrainer': ['Basket ball', 'Volley ball', 'Hand ball', 'Tennis', 'Hockey', 'Badmington', 'Ping pong', 'Boxe']}}\n{'_id': '566eec5f662b388eba464205', 'IdSportif': 3, 'Nom': 'HUE', 'Prenom': 'Pascale', 'Sexe': 'F', 'Age': 25, 'IdSportifConseiller': 1, 'Sports': {'Jouer': ['Volley ball', 'Ping pong'], 'Arbitrer': ['Volley ball', 'Badmington', 'Ping pong'], 'Entrainer': ['Basket ball', 'Volley ball', 'Hand ball', 'Badmington']}}\n{'_id': '566eec60662b388eba464298', 'IdSportif': 151, 'Nom': 'HENRY', 'Prenom': 'Maël', 'Sexe': 'M', 'Age': 25, 'IdSportifConseiller': 2, 'Sports': {'Jouer': ['Basket ball', 'Hand ball'], 'Arbitrer': ['Basket ball', 'Hand ball'], 'Entrainer': ['Basket ball', 'Hand ball']}}\n"
     ]
    }
   ],
   "source": [
    "# 17)\tQuels entraîneurs entraînent du hand ball et du basket ball ?\n",
    "for s in sportifs.find({\"$and\" : [{\"Sports.Entrainer\" : \"Hand ball\"}, {\"Sports.Entrainer\" : \"Basket ball\"}]}):    \n",
    "     print(s)"
   ]
  },
  {
   "cell_type": "code",
   "execution_count": 84,
   "metadata": {},
   "outputs": [
    {
     "output_type": "stream",
     "name": "stdout",
     "text": [
      "{'_id': '566eec5f662b388eba464203', 'IdSportif': 1, 'Nom': 'BOUTAHAR', 'Prenom': 'Abderahim', 'Sexe': 'm', 'Age': 30, 'Sports': {'Jouer': ['Volley ball', 'Tennis', 'Football'], 'Arbitrer': ['Basket ball', 'Volley ball', 'Hockey'], 'Entrainer': ['Basket ball', 'Volley ball', 'Hand ball', 'Hockey', 'Badmington']}}\n{'_id': '566eec60662b388eba46422e', 'IdSportif': 45, 'Nom': 'CHAVANT', 'Prenom': 'Christophe', 'Sexe': 'M', 'Age': 25, 'Sports': {'Jouer': ['Tennis', 'Football']}}\n{'_id': '566eec60662b388eba46423c', 'IdSportif': 59, 'Nom': 'CLERICE', 'Prenom': 'Stéphanie', 'Sexe': 'F', 'Age': 23, 'Sports': {'Jouer': ['Basket ball', 'Badmington', 'Ping pong'], 'Arbitrer': 'Tennis', 'Entrainer': ['Volley ball', 'Tennis']}}\n{'_id': '566eec60662b388eba464242', 'IdSportif': 65, 'Nom': 'CHESNIER', 'Prenom': 'Marc', 'Sexe': 'M', 'Age': 30, 'Sports': {'Jouer': 'Football'}}\n{'_id': '566eec60662b388eba46424f', 'IdSportif': 78, 'Nom': 'CHAUVIN', 'Prenom': 'Julien', 'Sexe': 'M', 'Age': 30, 'Sports': {'Jouer': 'Football'}}\n{'_id': '566eec60662b388eba46425a', 'IdSportif': 89, 'Nom': 'RIQUIER', 'Prenom': 'Jean-pierre', 'Sexe': 'M', 'Age': 30, 'Sports': {'Jouer': ['Hand ball', 'Football']}}\n{'_id': '566eec60662b388eba464262', 'IdSportif': 97, 'Nom': 'BONHOMME', 'Prenom': 'Bruno', 'Sexe': 'M', 'Age': 30, 'Sports': {'Jouer': ['Tennis', 'Football']}}\n{'_id': '566eec60662b388eba464264', 'IdSportif': 99, 'Nom': 'BONE', 'Prenom': 'Guy', 'Sexe': 'M', 'Age': 32, 'Sports': {'Jouer': 'Football'}}\n"
     ]
    }
   ],
   "source": [
    "# 18)\tQuels sportifs n’ont pas de conseillers ?\n",
    "for s in sportifs.find({\"IdSportifConseiller\":{\"$exists\": False}}):    \n",
    "     print(s)"
   ]
  },
  {
   "cell_type": "code",
   "execution_count": null,
   "metadata": {},
   "outputs": [],
   "source": []
  }
 ],
 "metadata": {
  "kernelspec": {
   "name": "python3",
   "display_name": "Python 3.8.0 64-bit ('env')",
   "metadata": {
    "interpreter": {
     "hash": "ed87b503c54e61edc39ea4b723f848990b00f3be7f06b3cc7fa6e441cb86ab1c"
    }
   }
  }
 },
 "nbformat": 4,
 "nbformat_minor": 4
}